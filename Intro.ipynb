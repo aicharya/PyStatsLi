{
  "nbformat": 4,
  "nbformat_minor": 0,
  "metadata": {
    "colab": {
      "name": "PyStats.ipynb",
      "version": "0.3.2",
      "provenance": [],
      "include_colab_link": true
    },
    "kernelspec": {
      "name": "python3",
      "display_name": "Python 3"
    }
  },
  "cells": [
    {
      "cell_type": "markdown",
      "metadata": {
        "id": "view-in-github",
        "colab_type": "text"
      },
      "source": [
        "<a href=\"https://colab.research.google.com/github/aicharya/PyStatsLi/blob/master/Intro.ipynb\" target=\"_parent\"><img src=\"https://colab.research.google.com/assets/colab-badge.svg\" alt=\"Open In Colab\"/></a>"
      ]
    },
    {
      "cell_type": "code",
      "metadata": {
        "id": "1gdLwmJpaOjW",
        "colab_type": "code",
        "colab": {}
      },
      "source": [
        "!rm -rf ./PyStatsLi"
      ],
      "execution_count": 0,
      "outputs": []
    },
    {
      "cell_type": "code",
      "metadata": {
        "id": "CFTnl_AsMTgZ",
        "colab_type": "code",
        "outputId": "31b44ea5-44ff-49ab-ba02-64b8eb03e625",
        "colab": {
          "base_uri": "https://localhost:8080/",
          "height": 126
        }
      },
      "source": [
        "!git clone https://github.com/aicharya/PyStatsLi.git"
      ],
      "execution_count": 2,
      "outputs": [
        {
          "output_type": "stream",
          "text": [
            "Cloning into 'PyStatsLi'...\n",
            "remote: Enumerating objects: 21, done.\u001b[K\n",
            "remote: Counting objects: 100% (21/21), done.\u001b[K\n",
            "remote: Compressing objects: 100% (19/19), done.\u001b[K\n",
            "remote: Total 21 (delta 3), reused 8 (delta 0), pack-reused 0\u001b[K\n",
            "Unpacking objects: 100% (21/21), done.\n"
          ],
          "name": "stdout"
        }
      ]
    },
    {
      "cell_type": "code",
      "metadata": {
        "id": "jg2naGfN7Gtb",
        "colab_type": "code",
        "outputId": "f401ecd8-cf24-4613-cb19-9e3a85dfce71",
        "colab": {
          "base_uri": "https://localhost:8080/",
          "height": 35
        }
      },
      "source": [
        "!ls PyStatsLi"
      ],
      "execution_count": 3,
      "outputs": [
        {
          "output_type": "stream",
          "text": [
            "Intro.ipynb  Planets.csv  README.md\n"
          ],
          "name": "stdout"
        }
      ]
    },
    {
      "cell_type": "code",
      "metadata": {
        "id": "xXueckpN7ObN",
        "colab_type": "code",
        "outputId": "19a55665-41fe-477b-9d5a-aa7de8428894",
        "colab": {
          "base_uri": "https://localhost:8080/",
          "height": 35
        }
      },
      "source": [
        "import os\n",
        "os.listdir(\"./PyStatsLi\")"
      ],
      "execution_count": 4,
      "outputs": [
        {
          "output_type": "execute_result",
          "data": {
            "text/plain": [
              "['.git', 'Intro.ipynb', 'README.md', 'Planets.csv']"
            ]
          },
          "metadata": {
            "tags": []
          },
          "execution_count": 4
        }
      ]
    },
    {
      "cell_type": "code",
      "metadata": {
        "id": "X-yjQx-_7jxt",
        "colab_type": "code",
        "outputId": "9abeb381-d090-4f63-e8b7-7a66118eecfc",
        "colab": {
          "base_uri": "https://localhost:8080/",
          "height": 368
        }
      },
      "source": [
        "import pandas as pd\n",
        "planets = pd.read_csv(\"./PyStatsLi/Planets.csv\")\n",
        "planets"
      ],
      "execution_count": 5,
      "outputs": [
        {
          "output_type": "execute_result",
          "data": {
            "text/html": [
              "<div>\n",
              "<style scoped>\n",
              "    .dataframe tbody tr th:only-of-type {\n",
              "        vertical-align: middle;\n",
              "    }\n",
              "\n",
              "    .dataframe tbody tr th {\n",
              "        vertical-align: top;\n",
              "    }\n",
              "\n",
              "    .dataframe thead th {\n",
              "        text-align: right;\n",
              "    }\n",
              "</style>\n",
              "<table border=\"1\" class=\"dataframe\">\n",
              "  <thead>\n",
              "    <tr style=\"text-align: right;\">\n",
              "      <th></th>\n",
              "      <th>Planet</th>\n",
              "      <th>Mass</th>\n",
              "      <th>Diameter</th>\n",
              "      <th>DayLength</th>\n",
              "      <th>SunDistance</th>\n",
              "      <th>OrbitPeriod</th>\n",
              "      <th>OrbitVelocity</th>\n",
              "      <th>MeanTemperature</th>\n",
              "      <th>SurfacePressure</th>\n",
              "      <th>Moons</th>\n",
              "      <th>Rings</th>\n",
              "      <th>MagneticField</th>\n",
              "      <th>FirstVisited</th>\n",
              "      <th>FirstMission</th>\n",
              "    </tr>\n",
              "  </thead>\n",
              "  <tbody>\n",
              "    <tr>\n",
              "      <th>0</th>\n",
              "      <td>MERCURY</td>\n",
              "      <td>0.3300</td>\n",
              "      <td>4879</td>\n",
              "      <td>4222.6</td>\n",
              "      <td>57.9</td>\n",
              "      <td>88</td>\n",
              "      <td>47.4</td>\n",
              "      <td>167</td>\n",
              "      <td>0.00000</td>\n",
              "      <td>0</td>\n",
              "      <td>No</td>\n",
              "      <td>Yes</td>\n",
              "      <td>1974-03-29</td>\n",
              "      <td>Mariner 10</td>\n",
              "    </tr>\n",
              "    <tr>\n",
              "      <th>1</th>\n",
              "      <td>VENUS</td>\n",
              "      <td>4.8700</td>\n",
              "      <td>12,104</td>\n",
              "      <td>2802.0</td>\n",
              "      <td>108.2</td>\n",
              "      <td>224.7</td>\n",
              "      <td>35.0</td>\n",
              "      <td>464</td>\n",
              "      <td>92.00000</td>\n",
              "      <td>0</td>\n",
              "      <td>No</td>\n",
              "      <td>No</td>\n",
              "      <td>1962-08-27</td>\n",
              "      <td>Mariner 2</td>\n",
              "    </tr>\n",
              "    <tr>\n",
              "      <th>2</th>\n",
              "      <td>EARTH</td>\n",
              "      <td>5.9700</td>\n",
              "      <td>12,756</td>\n",
              "      <td>24.0</td>\n",
              "      <td>149.6</td>\n",
              "      <td>365.2</td>\n",
              "      <td>29.8</td>\n",
              "      <td>15</td>\n",
              "      <td>1.00000</td>\n",
              "      <td>1</td>\n",
              "      <td>No</td>\n",
              "      <td>Yes</td>\n",
              "      <td>NaN</td>\n",
              "      <td>NaN</td>\n",
              "    </tr>\n",
              "    <tr>\n",
              "      <th>3</th>\n",
              "      <td>MOON</td>\n",
              "      <td>0.0730</td>\n",
              "      <td>3475</td>\n",
              "      <td>708.7</td>\n",
              "      <td>NaN</td>\n",
              "      <td>27.3</td>\n",
              "      <td>1.0</td>\n",
              "      <td>-20</td>\n",
              "      <td>0.00000</td>\n",
              "      <td>0</td>\n",
              "      <td>No</td>\n",
              "      <td>No</td>\n",
              "      <td>1959-09-12</td>\n",
              "      <td>Luna 2</td>\n",
              "    </tr>\n",
              "    <tr>\n",
              "      <th>4</th>\n",
              "      <td>MARS</td>\n",
              "      <td>0.6420</td>\n",
              "      <td>6792</td>\n",
              "      <td>24.7</td>\n",
              "      <td>227.9</td>\n",
              "      <td>687</td>\n",
              "      <td>24.1</td>\n",
              "      <td>-65</td>\n",
              "      <td>0.01000</td>\n",
              "      <td>2</td>\n",
              "      <td>No</td>\n",
              "      <td>No</td>\n",
              "      <td>1965-07-15</td>\n",
              "      <td>Mariner 4</td>\n",
              "    </tr>\n",
              "    <tr>\n",
              "      <th>5</th>\n",
              "      <td>JUPITER</td>\n",
              "      <td>1898.0000</td>\n",
              "      <td>142,984</td>\n",
              "      <td>9.9</td>\n",
              "      <td>778.6</td>\n",
              "      <td>4331</td>\n",
              "      <td>13.1</td>\n",
              "      <td>-110</td>\n",
              "      <td>NaN</td>\n",
              "      <td>67</td>\n",
              "      <td>Yes</td>\n",
              "      <td>Yes</td>\n",
              "      <td>1973-12-04</td>\n",
              "      <td>Pioneer 10</td>\n",
              "    </tr>\n",
              "    <tr>\n",
              "      <th>6</th>\n",
              "      <td>SATURN</td>\n",
              "      <td>568.0000</td>\n",
              "      <td>120,536</td>\n",
              "      <td>10.7</td>\n",
              "      <td>1433.5</td>\n",
              "      <td>10,747</td>\n",
              "      <td>9.7</td>\n",
              "      <td>-140</td>\n",
              "      <td>NaN</td>\n",
              "      <td>62</td>\n",
              "      <td>Yes</td>\n",
              "      <td>Yes</td>\n",
              "      <td>1979-09-01</td>\n",
              "      <td>Pioneer 11</td>\n",
              "    </tr>\n",
              "    <tr>\n",
              "      <th>7</th>\n",
              "      <td>URANUS</td>\n",
              "      <td>86.8000</td>\n",
              "      <td>51,118</td>\n",
              "      <td>17.2</td>\n",
              "      <td>2872.5</td>\n",
              "      <td>30,589</td>\n",
              "      <td>6.8</td>\n",
              "      <td>-195</td>\n",
              "      <td>NaN</td>\n",
              "      <td>27</td>\n",
              "      <td>Yes</td>\n",
              "      <td>Yes</td>\n",
              "      <td>1986-01-24</td>\n",
              "      <td>Voyager 2</td>\n",
              "    </tr>\n",
              "    <tr>\n",
              "      <th>8</th>\n",
              "      <td>NEPTUNE</td>\n",
              "      <td>102.0000</td>\n",
              "      <td>49,528</td>\n",
              "      <td>16.1</td>\n",
              "      <td>4495.1</td>\n",
              "      <td>59,800</td>\n",
              "      <td>5.4</td>\n",
              "      <td>-200</td>\n",
              "      <td>NaN</td>\n",
              "      <td>14</td>\n",
              "      <td>Yes</td>\n",
              "      <td>Yes</td>\n",
              "      <td>1989-08-25</td>\n",
              "      <td>Voyager 2</td>\n",
              "    </tr>\n",
              "    <tr>\n",
              "      <th>9</th>\n",
              "      <td>PLUTO</td>\n",
              "      <td>0.0146</td>\n",
              "      <td>2370</td>\n",
              "      <td>153.3</td>\n",
              "      <td>5906.4</td>\n",
              "      <td>90,560</td>\n",
              "      <td>4.7</td>\n",
              "      <td>-225</td>\n",
              "      <td>0.00001</td>\n",
              "      <td>5</td>\n",
              "      <td>No</td>\n",
              "      <td>NaN</td>\n",
              "      <td>2015-07-14</td>\n",
              "      <td>New Horizons</td>\n",
              "    </tr>\n",
              "  </tbody>\n",
              "</table>\n",
              "</div>"
            ],
            "text/plain": [
              "    Planet       Mass Diameter  ...  MagneticField  FirstVisited  FirstMission\n",
              "0  MERCURY     0.3300     4879  ...            Yes    1974-03-29    Mariner 10\n",
              "1    VENUS     4.8700   12,104  ...             No    1962-08-27     Mariner 2\n",
              "2    EARTH     5.9700   12,756  ...            Yes           NaN           NaN\n",
              "3     MOON     0.0730     3475  ...             No    1959-09-12        Luna 2\n",
              "4     MARS     0.6420     6792  ...             No    1965-07-15     Mariner 4\n",
              "5  JUPITER  1898.0000  142,984  ...            Yes    1973-12-04    Pioneer 10\n",
              "6   SATURN   568.0000  120,536  ...            Yes    1979-09-01    Pioneer 11\n",
              "7   URANUS    86.8000   51,118  ...            Yes    1986-01-24     Voyager 2\n",
              "8  NEPTUNE   102.0000   49,528  ...            Yes    1989-08-25     Voyager 2\n",
              "9    PLUTO     0.0146     2370  ...            NaN    2015-07-14  New Horizons\n",
              "\n",
              "[10 rows x 14 columns]"
            ]
          },
          "metadata": {
            "tags": []
          },
          "execution_count": 5
        }
      ]
    },
    {
      "cell_type": "markdown",
      "metadata": {
        "id": "mM_N5ICxo3YD",
        "colab_type": "text"
      },
      "source": [
        ""
      ]
    },
    {
      "cell_type": "code",
      "metadata": {
        "id": "thM8cDS8QFcU",
        "colab_type": "code",
        "outputId": "1a26e0c8-8968-4e14-d113-c79eef13c456",
        "colab": {
          "base_uri": "https://localhost:8080/",
          "height": 217
        }
      },
      "source": [
        "!cat ./PyStatsLi/Planets.csv"
      ],
      "execution_count": 6,
      "outputs": [
        {
          "output_type": "stream",
          "text": [
            "﻿Planet,Mass,Diameter,DayLength,SunDistance,OrbitPeriod,OrbitVelocity,MeanTemperature,SurfacePressure,Moons,Rings,MagneticField,FirstVisited,FirstMission\r\n",
            "MERCURY,0.33,4879,4222.6,57.9,88,47.4,167,0,0,No,Yes,1974-03-29,Mariner 10\r\n",
            "VENUS,4.87,\"12,104\",2802,108.2,224.7,35,464,92,0,No,No,1962-08-27,Mariner 2\r\n",
            "EARTH,5.97,\"12,756\",24,149.6,365.2,29.8,15,1,1,No,Yes,NA,NA\r\n",
            "MOON,0.073,3475,708.7,NA,27.3,1,-20,0,0,No,No,1959-09-12,Luna 2\r\n",
            "MARS,0.642,6792,24.7,227.9,687,24.1,-65,0.01,2,No,No,1965-07-15,Mariner 4\r\n",
            "JUPITER,1898,\"142,984\",9.9,778.6,4331,13.1,-110,NA,67,Yes,Yes,1973-12-04,Pioneer 10\r\n",
            "SATURN,568,\"120,536\",10.7,1433.5,\"10,747\",9.7,-140,NA,62,Yes,Yes,1979-09-01,Pioneer 11\r\n",
            "URANUS,86.8,\"51,118\",17.2,2872.5,\"30,589\",6.8,-195,NA,27,Yes,Yes,1986-01-24,Voyager 2\r\n",
            "NEPTUNE,102,\"49,528\",16.1,4495.1,\"59,800\",5.4,-200,NA,14,Yes,Yes,1989-08-25,Voyager 2\r\n",
            "PLUTO,0.0146,2370,153.3,5906.4,\"90,560\",4.7,-225,0.00001,5,No,NA,2015-07-14,New Horizons"
          ],
          "name": "stdout"
        }
      ]
    },
    {
      "cell_type": "code",
      "metadata": {
        "id": "IaKV_6OGpCjH",
        "colab_type": "code",
        "colab": {
          "base_uri": "https://localhost:8080/",
          "height": 35
        },
        "outputId": "b3a52fae-0fb4-4009-c6fa-704b00af462a"
      },
      "source": [
        "planets.index"
      ],
      "execution_count": 7,
      "outputs": [
        {
          "output_type": "execute_result",
          "data": {
            "text/plain": [
              "RangeIndex(start=0, stop=10, step=1)"
            ]
          },
          "metadata": {
            "tags": []
          },
          "execution_count": 7
        }
      ]
    },
    {
      "cell_type": "code",
      "metadata": {
        "id": "rRMY9ObdpGfI",
        "colab_type": "code",
        "colab": {
          "base_uri": "https://localhost:8080/",
          "height": 290
        },
        "outputId": "7f97476d-6d03-4f05-bd72-27b2eb35c94f"
      },
      "source": [
        "planets.loc[3]"
      ],
      "execution_count": 8,
      "outputs": [
        {
          "output_type": "execute_result",
          "data": {
            "text/plain": [
              "Planet                   MOON\n",
              "Mass                    0.073\n",
              "Diameter                 3475\n",
              "DayLength               708.7\n",
              "SunDistance               NaN\n",
              "OrbitPeriod              27.3\n",
              "OrbitVelocity               1\n",
              "MeanTemperature           -20\n",
              "SurfacePressure             0\n",
              "Moons                       0\n",
              "Rings                      No\n",
              "MagneticField              No\n",
              "FirstVisited       1959-09-12\n",
              "FirstMission           Luna 2\n",
              "Name: 3, dtype: object"
            ]
          },
          "metadata": {
            "tags": []
          },
          "execution_count": 8
        }
      ]
    },
    {
      "cell_type": "code",
      "metadata": {
        "id": "KQ9HJwuGpSnB",
        "colab_type": "code",
        "colab": {
          "base_uri": "https://localhost:8080/",
          "height": 398
        },
        "outputId": "9a2fbbef-2599-4626-e33b-cd9ae6f5fb4b"
      },
      "source": [
        "planets.set_index('Planet')"
      ],
      "execution_count": 9,
      "outputs": [
        {
          "output_type": "execute_result",
          "data": {
            "text/html": [
              "<div>\n",
              "<style scoped>\n",
              "    .dataframe tbody tr th:only-of-type {\n",
              "        vertical-align: middle;\n",
              "    }\n",
              "\n",
              "    .dataframe tbody tr th {\n",
              "        vertical-align: top;\n",
              "    }\n",
              "\n",
              "    .dataframe thead th {\n",
              "        text-align: right;\n",
              "    }\n",
              "</style>\n",
              "<table border=\"1\" class=\"dataframe\">\n",
              "  <thead>\n",
              "    <tr style=\"text-align: right;\">\n",
              "      <th></th>\n",
              "      <th>Mass</th>\n",
              "      <th>Diameter</th>\n",
              "      <th>DayLength</th>\n",
              "      <th>SunDistance</th>\n",
              "      <th>OrbitPeriod</th>\n",
              "      <th>OrbitVelocity</th>\n",
              "      <th>MeanTemperature</th>\n",
              "      <th>SurfacePressure</th>\n",
              "      <th>Moons</th>\n",
              "      <th>Rings</th>\n",
              "      <th>MagneticField</th>\n",
              "      <th>FirstVisited</th>\n",
              "      <th>FirstMission</th>\n",
              "    </tr>\n",
              "    <tr>\n",
              "      <th>Planet</th>\n",
              "      <th></th>\n",
              "      <th></th>\n",
              "      <th></th>\n",
              "      <th></th>\n",
              "      <th></th>\n",
              "      <th></th>\n",
              "      <th></th>\n",
              "      <th></th>\n",
              "      <th></th>\n",
              "      <th></th>\n",
              "      <th></th>\n",
              "      <th></th>\n",
              "      <th></th>\n",
              "    </tr>\n",
              "  </thead>\n",
              "  <tbody>\n",
              "    <tr>\n",
              "      <th>MERCURY</th>\n",
              "      <td>0.3300</td>\n",
              "      <td>4879</td>\n",
              "      <td>4222.6</td>\n",
              "      <td>57.9</td>\n",
              "      <td>88</td>\n",
              "      <td>47.4</td>\n",
              "      <td>167</td>\n",
              "      <td>0.00000</td>\n",
              "      <td>0</td>\n",
              "      <td>No</td>\n",
              "      <td>Yes</td>\n",
              "      <td>1974-03-29</td>\n",
              "      <td>Mariner 10</td>\n",
              "    </tr>\n",
              "    <tr>\n",
              "      <th>VENUS</th>\n",
              "      <td>4.8700</td>\n",
              "      <td>12,104</td>\n",
              "      <td>2802.0</td>\n",
              "      <td>108.2</td>\n",
              "      <td>224.7</td>\n",
              "      <td>35.0</td>\n",
              "      <td>464</td>\n",
              "      <td>92.00000</td>\n",
              "      <td>0</td>\n",
              "      <td>No</td>\n",
              "      <td>No</td>\n",
              "      <td>1962-08-27</td>\n",
              "      <td>Mariner 2</td>\n",
              "    </tr>\n",
              "    <tr>\n",
              "      <th>EARTH</th>\n",
              "      <td>5.9700</td>\n",
              "      <td>12,756</td>\n",
              "      <td>24.0</td>\n",
              "      <td>149.6</td>\n",
              "      <td>365.2</td>\n",
              "      <td>29.8</td>\n",
              "      <td>15</td>\n",
              "      <td>1.00000</td>\n",
              "      <td>1</td>\n",
              "      <td>No</td>\n",
              "      <td>Yes</td>\n",
              "      <td>NaN</td>\n",
              "      <td>NaN</td>\n",
              "    </tr>\n",
              "    <tr>\n",
              "      <th>MOON</th>\n",
              "      <td>0.0730</td>\n",
              "      <td>3475</td>\n",
              "      <td>708.7</td>\n",
              "      <td>NaN</td>\n",
              "      <td>27.3</td>\n",
              "      <td>1.0</td>\n",
              "      <td>-20</td>\n",
              "      <td>0.00000</td>\n",
              "      <td>0</td>\n",
              "      <td>No</td>\n",
              "      <td>No</td>\n",
              "      <td>1959-09-12</td>\n",
              "      <td>Luna 2</td>\n",
              "    </tr>\n",
              "    <tr>\n",
              "      <th>MARS</th>\n",
              "      <td>0.6420</td>\n",
              "      <td>6792</td>\n",
              "      <td>24.7</td>\n",
              "      <td>227.9</td>\n",
              "      <td>687</td>\n",
              "      <td>24.1</td>\n",
              "      <td>-65</td>\n",
              "      <td>0.01000</td>\n",
              "      <td>2</td>\n",
              "      <td>No</td>\n",
              "      <td>No</td>\n",
              "      <td>1965-07-15</td>\n",
              "      <td>Mariner 4</td>\n",
              "    </tr>\n",
              "    <tr>\n",
              "      <th>JUPITER</th>\n",
              "      <td>1898.0000</td>\n",
              "      <td>142,984</td>\n",
              "      <td>9.9</td>\n",
              "      <td>778.6</td>\n",
              "      <td>4331</td>\n",
              "      <td>13.1</td>\n",
              "      <td>-110</td>\n",
              "      <td>NaN</td>\n",
              "      <td>67</td>\n",
              "      <td>Yes</td>\n",
              "      <td>Yes</td>\n",
              "      <td>1973-12-04</td>\n",
              "      <td>Pioneer 10</td>\n",
              "    </tr>\n",
              "    <tr>\n",
              "      <th>SATURN</th>\n",
              "      <td>568.0000</td>\n",
              "      <td>120,536</td>\n",
              "      <td>10.7</td>\n",
              "      <td>1433.5</td>\n",
              "      <td>10,747</td>\n",
              "      <td>9.7</td>\n",
              "      <td>-140</td>\n",
              "      <td>NaN</td>\n",
              "      <td>62</td>\n",
              "      <td>Yes</td>\n",
              "      <td>Yes</td>\n",
              "      <td>1979-09-01</td>\n",
              "      <td>Pioneer 11</td>\n",
              "    </tr>\n",
              "    <tr>\n",
              "      <th>URANUS</th>\n",
              "      <td>86.8000</td>\n",
              "      <td>51,118</td>\n",
              "      <td>17.2</td>\n",
              "      <td>2872.5</td>\n",
              "      <td>30,589</td>\n",
              "      <td>6.8</td>\n",
              "      <td>-195</td>\n",
              "      <td>NaN</td>\n",
              "      <td>27</td>\n",
              "      <td>Yes</td>\n",
              "      <td>Yes</td>\n",
              "      <td>1986-01-24</td>\n",
              "      <td>Voyager 2</td>\n",
              "    </tr>\n",
              "    <tr>\n",
              "      <th>NEPTUNE</th>\n",
              "      <td>102.0000</td>\n",
              "      <td>49,528</td>\n",
              "      <td>16.1</td>\n",
              "      <td>4495.1</td>\n",
              "      <td>59,800</td>\n",
              "      <td>5.4</td>\n",
              "      <td>-200</td>\n",
              "      <td>NaN</td>\n",
              "      <td>14</td>\n",
              "      <td>Yes</td>\n",
              "      <td>Yes</td>\n",
              "      <td>1989-08-25</td>\n",
              "      <td>Voyager 2</td>\n",
              "    </tr>\n",
              "    <tr>\n",
              "      <th>PLUTO</th>\n",
              "      <td>0.0146</td>\n",
              "      <td>2370</td>\n",
              "      <td>153.3</td>\n",
              "      <td>5906.4</td>\n",
              "      <td>90,560</td>\n",
              "      <td>4.7</td>\n",
              "      <td>-225</td>\n",
              "      <td>0.00001</td>\n",
              "      <td>5</td>\n",
              "      <td>No</td>\n",
              "      <td>NaN</td>\n",
              "      <td>2015-07-14</td>\n",
              "      <td>New Horizons</td>\n",
              "    </tr>\n",
              "  </tbody>\n",
              "</table>\n",
              "</div>"
            ],
            "text/plain": [
              "              Mass Diameter  DayLength  ...  MagneticField FirstVisited  FirstMission\n",
              "Planet                                  ...                                          \n",
              "MERCURY     0.3300     4879     4222.6  ...            Yes   1974-03-29    Mariner 10\n",
              "VENUS       4.8700   12,104     2802.0  ...             No   1962-08-27     Mariner 2\n",
              "EARTH       5.9700   12,756       24.0  ...            Yes          NaN           NaN\n",
              "MOON        0.0730     3475      708.7  ...             No   1959-09-12        Luna 2\n",
              "MARS        0.6420     6792       24.7  ...             No   1965-07-15     Mariner 4\n",
              "JUPITER  1898.0000  142,984        9.9  ...            Yes   1973-12-04    Pioneer 10\n",
              "SATURN    568.0000  120,536       10.7  ...            Yes   1979-09-01    Pioneer 11\n",
              "URANUS     86.8000   51,118       17.2  ...            Yes   1986-01-24     Voyager 2\n",
              "NEPTUNE   102.0000   49,528       16.1  ...            Yes   1989-08-25     Voyager 2\n",
              "PLUTO       0.0146     2370      153.3  ...            NaN   2015-07-14  New Horizons\n",
              "\n",
              "[10 rows x 13 columns]"
            ]
          },
          "metadata": {
            "tags": []
          },
          "execution_count": 9
        }
      ]
    },
    {
      "cell_type": "code",
      "metadata": {
        "id": "HqZbhrSKpdqB",
        "colab_type": "code",
        "colab": {
          "base_uri": "https://localhost:8080/",
          "height": 378
        },
        "outputId": "caa78e97-d6e8-480a-c143-39fa56878c47"
      },
      "source": [
        "planets = pd.read_csv(\"./PyStatsLi/Planets.csv\", usecols = [0, 1, 2, 3, 4])\n",
        "planets.set_index('Planet')"
      ],
      "execution_count": 11,
      "outputs": [
        {
          "output_type": "execute_result",
          "data": {
            "text/html": [
              "<div>\n",
              "<style scoped>\n",
              "    .dataframe tbody tr th:only-of-type {\n",
              "        vertical-align: middle;\n",
              "    }\n",
              "\n",
              "    .dataframe tbody tr th {\n",
              "        vertical-align: top;\n",
              "    }\n",
              "\n",
              "    .dataframe thead th {\n",
              "        text-align: right;\n",
              "    }\n",
              "</style>\n",
              "<table border=\"1\" class=\"dataframe\">\n",
              "  <thead>\n",
              "    <tr style=\"text-align: right;\">\n",
              "      <th></th>\n",
              "      <th>Mass</th>\n",
              "      <th>Diameter</th>\n",
              "      <th>DayLength</th>\n",
              "      <th>SunDistance</th>\n",
              "    </tr>\n",
              "    <tr>\n",
              "      <th>Planet</th>\n",
              "      <th></th>\n",
              "      <th></th>\n",
              "      <th></th>\n",
              "      <th></th>\n",
              "    </tr>\n",
              "  </thead>\n",
              "  <tbody>\n",
              "    <tr>\n",
              "      <th>MERCURY</th>\n",
              "      <td>0.3300</td>\n",
              "      <td>4879</td>\n",
              "      <td>4222.6</td>\n",
              "      <td>57.9</td>\n",
              "    </tr>\n",
              "    <tr>\n",
              "      <th>VENUS</th>\n",
              "      <td>4.8700</td>\n",
              "      <td>12,104</td>\n",
              "      <td>2802.0</td>\n",
              "      <td>108.2</td>\n",
              "    </tr>\n",
              "    <tr>\n",
              "      <th>EARTH</th>\n",
              "      <td>5.9700</td>\n",
              "      <td>12,756</td>\n",
              "      <td>24.0</td>\n",
              "      <td>149.6</td>\n",
              "    </tr>\n",
              "    <tr>\n",
              "      <th>MOON</th>\n",
              "      <td>0.0730</td>\n",
              "      <td>3475</td>\n",
              "      <td>708.7</td>\n",
              "      <td>NaN</td>\n",
              "    </tr>\n",
              "    <tr>\n",
              "      <th>MARS</th>\n",
              "      <td>0.6420</td>\n",
              "      <td>6792</td>\n",
              "      <td>24.7</td>\n",
              "      <td>227.9</td>\n",
              "    </tr>\n",
              "    <tr>\n",
              "      <th>JUPITER</th>\n",
              "      <td>1898.0000</td>\n",
              "      <td>142,984</td>\n",
              "      <td>9.9</td>\n",
              "      <td>778.6</td>\n",
              "    </tr>\n",
              "    <tr>\n",
              "      <th>SATURN</th>\n",
              "      <td>568.0000</td>\n",
              "      <td>120,536</td>\n",
              "      <td>10.7</td>\n",
              "      <td>1433.5</td>\n",
              "    </tr>\n",
              "    <tr>\n",
              "      <th>URANUS</th>\n",
              "      <td>86.8000</td>\n",
              "      <td>51,118</td>\n",
              "      <td>17.2</td>\n",
              "      <td>2872.5</td>\n",
              "    </tr>\n",
              "    <tr>\n",
              "      <th>NEPTUNE</th>\n",
              "      <td>102.0000</td>\n",
              "      <td>49,528</td>\n",
              "      <td>16.1</td>\n",
              "      <td>4495.1</td>\n",
              "    </tr>\n",
              "    <tr>\n",
              "      <th>PLUTO</th>\n",
              "      <td>0.0146</td>\n",
              "      <td>2370</td>\n",
              "      <td>153.3</td>\n",
              "      <td>5906.4</td>\n",
              "    </tr>\n",
              "  </tbody>\n",
              "</table>\n",
              "</div>"
            ],
            "text/plain": [
              "              Mass Diameter  DayLength  SunDistance\n",
              "Planet                                             \n",
              "MERCURY     0.3300     4879     4222.6         57.9\n",
              "VENUS       4.8700   12,104     2802.0        108.2\n",
              "EARTH       5.9700   12,756       24.0        149.6\n",
              "MOON        0.0730     3475      708.7          NaN\n",
              "MARS        0.6420     6792       24.7        227.9\n",
              "JUPITER  1898.0000  142,984        9.9        778.6\n",
              "SATURN    568.0000  120,536       10.7       1433.5\n",
              "URANUS     86.8000   51,118       17.2       2872.5\n",
              "NEPTUNE   102.0000   49,528       16.1       4495.1\n",
              "PLUTO       0.0146     2370      153.3       5906.4"
            ]
          },
          "metadata": {
            "tags": []
          },
          "execution_count": 11
        }
      ]
    },
    {
      "cell_type": "code",
      "metadata": {
        "id": "ymX3rmxFpn8F",
        "colab_type": "code",
        "colab": {
          "base_uri": "https://localhost:8080/",
          "height": 348
        },
        "outputId": "75ac606e-6ad4-48a6-aacb-fa8e7daad8a2"
      },
      "source": [
        "planets"
      ],
      "execution_count": 12,
      "outputs": [
        {
          "output_type": "execute_result",
          "data": {
            "text/html": [
              "<div>\n",
              "<style scoped>\n",
              "    .dataframe tbody tr th:only-of-type {\n",
              "        vertical-align: middle;\n",
              "    }\n",
              "\n",
              "    .dataframe tbody tr th {\n",
              "        vertical-align: top;\n",
              "    }\n",
              "\n",
              "    .dataframe thead th {\n",
              "        text-align: right;\n",
              "    }\n",
              "</style>\n",
              "<table border=\"1\" class=\"dataframe\">\n",
              "  <thead>\n",
              "    <tr style=\"text-align: right;\">\n",
              "      <th></th>\n",
              "      <th>Planet</th>\n",
              "      <th>Mass</th>\n",
              "      <th>Diameter</th>\n",
              "      <th>DayLength</th>\n",
              "      <th>SunDistance</th>\n",
              "    </tr>\n",
              "  </thead>\n",
              "  <tbody>\n",
              "    <tr>\n",
              "      <th>0</th>\n",
              "      <td>MERCURY</td>\n",
              "      <td>0.3300</td>\n",
              "      <td>4879</td>\n",
              "      <td>4222.6</td>\n",
              "      <td>57.9</td>\n",
              "    </tr>\n",
              "    <tr>\n",
              "      <th>1</th>\n",
              "      <td>VENUS</td>\n",
              "      <td>4.8700</td>\n",
              "      <td>12,104</td>\n",
              "      <td>2802.0</td>\n",
              "      <td>108.2</td>\n",
              "    </tr>\n",
              "    <tr>\n",
              "      <th>2</th>\n",
              "      <td>EARTH</td>\n",
              "      <td>5.9700</td>\n",
              "      <td>12,756</td>\n",
              "      <td>24.0</td>\n",
              "      <td>149.6</td>\n",
              "    </tr>\n",
              "    <tr>\n",
              "      <th>3</th>\n",
              "      <td>MOON</td>\n",
              "      <td>0.0730</td>\n",
              "      <td>3475</td>\n",
              "      <td>708.7</td>\n",
              "      <td>NaN</td>\n",
              "    </tr>\n",
              "    <tr>\n",
              "      <th>4</th>\n",
              "      <td>MARS</td>\n",
              "      <td>0.6420</td>\n",
              "      <td>6792</td>\n",
              "      <td>24.7</td>\n",
              "      <td>227.9</td>\n",
              "    </tr>\n",
              "    <tr>\n",
              "      <th>5</th>\n",
              "      <td>JUPITER</td>\n",
              "      <td>1898.0000</td>\n",
              "      <td>142,984</td>\n",
              "      <td>9.9</td>\n",
              "      <td>778.6</td>\n",
              "    </tr>\n",
              "    <tr>\n",
              "      <th>6</th>\n",
              "      <td>SATURN</td>\n",
              "      <td>568.0000</td>\n",
              "      <td>120,536</td>\n",
              "      <td>10.7</td>\n",
              "      <td>1433.5</td>\n",
              "    </tr>\n",
              "    <tr>\n",
              "      <th>7</th>\n",
              "      <td>URANUS</td>\n",
              "      <td>86.8000</td>\n",
              "      <td>51,118</td>\n",
              "      <td>17.2</td>\n",
              "      <td>2872.5</td>\n",
              "    </tr>\n",
              "    <tr>\n",
              "      <th>8</th>\n",
              "      <td>NEPTUNE</td>\n",
              "      <td>102.0000</td>\n",
              "      <td>49,528</td>\n",
              "      <td>16.1</td>\n",
              "      <td>4495.1</td>\n",
              "    </tr>\n",
              "    <tr>\n",
              "      <th>9</th>\n",
              "      <td>PLUTO</td>\n",
              "      <td>0.0146</td>\n",
              "      <td>2370</td>\n",
              "      <td>153.3</td>\n",
              "      <td>5906.4</td>\n",
              "    </tr>\n",
              "  </tbody>\n",
              "</table>\n",
              "</div>"
            ],
            "text/plain": [
              "    Planet       Mass Diameter  DayLength  SunDistance\n",
              "0  MERCURY     0.3300     4879     4222.6         57.9\n",
              "1    VENUS     4.8700   12,104     2802.0        108.2\n",
              "2    EARTH     5.9700   12,756       24.0        149.6\n",
              "3     MOON     0.0730     3475      708.7          NaN\n",
              "4     MARS     0.6420     6792       24.7        227.9\n",
              "5  JUPITER  1898.0000  142,984        9.9        778.6\n",
              "6   SATURN   568.0000  120,536       10.7       1433.5\n",
              "7   URANUS    86.8000   51,118       17.2       2872.5\n",
              "8  NEPTUNE   102.0000   49,528       16.1       4495.1\n",
              "9    PLUTO     0.0146     2370      153.3       5906.4"
            ]
          },
          "metadata": {
            "tags": []
          },
          "execution_count": 12
        }
      ]
    },
    {
      "cell_type": "code",
      "metadata": {
        "id": "HikqX7tOpq0j",
        "colab_type": "code",
        "colab": {
          "base_uri": "https://localhost:8080/",
          "height": 378
        },
        "outputId": "a16fb509-b4a5-4459-faef-57e05ef8b9b4"
      },
      "source": [
        "planets.set_index('Planet', inplace = True)\n",
        "planets"
      ],
      "execution_count": 14,
      "outputs": [
        {
          "output_type": "execute_result",
          "data": {
            "text/html": [
              "<div>\n",
              "<style scoped>\n",
              "    .dataframe tbody tr th:only-of-type {\n",
              "        vertical-align: middle;\n",
              "    }\n",
              "\n",
              "    .dataframe tbody tr th {\n",
              "        vertical-align: top;\n",
              "    }\n",
              "\n",
              "    .dataframe thead th {\n",
              "        text-align: right;\n",
              "    }\n",
              "</style>\n",
              "<table border=\"1\" class=\"dataframe\">\n",
              "  <thead>\n",
              "    <tr style=\"text-align: right;\">\n",
              "      <th></th>\n",
              "      <th>Mass</th>\n",
              "      <th>Diameter</th>\n",
              "      <th>DayLength</th>\n",
              "      <th>SunDistance</th>\n",
              "    </tr>\n",
              "    <tr>\n",
              "      <th>Planet</th>\n",
              "      <th></th>\n",
              "      <th></th>\n",
              "      <th></th>\n",
              "      <th></th>\n",
              "    </tr>\n",
              "  </thead>\n",
              "  <tbody>\n",
              "    <tr>\n",
              "      <th>MERCURY</th>\n",
              "      <td>0.3300</td>\n",
              "      <td>4879</td>\n",
              "      <td>4222.6</td>\n",
              "      <td>57.9</td>\n",
              "    </tr>\n",
              "    <tr>\n",
              "      <th>VENUS</th>\n",
              "      <td>4.8700</td>\n",
              "      <td>12,104</td>\n",
              "      <td>2802.0</td>\n",
              "      <td>108.2</td>\n",
              "    </tr>\n",
              "    <tr>\n",
              "      <th>EARTH</th>\n",
              "      <td>5.9700</td>\n",
              "      <td>12,756</td>\n",
              "      <td>24.0</td>\n",
              "      <td>149.6</td>\n",
              "    </tr>\n",
              "    <tr>\n",
              "      <th>MOON</th>\n",
              "      <td>0.0730</td>\n",
              "      <td>3475</td>\n",
              "      <td>708.7</td>\n",
              "      <td>NaN</td>\n",
              "    </tr>\n",
              "    <tr>\n",
              "      <th>MARS</th>\n",
              "      <td>0.6420</td>\n",
              "      <td>6792</td>\n",
              "      <td>24.7</td>\n",
              "      <td>227.9</td>\n",
              "    </tr>\n",
              "    <tr>\n",
              "      <th>JUPITER</th>\n",
              "      <td>1898.0000</td>\n",
              "      <td>142,984</td>\n",
              "      <td>9.9</td>\n",
              "      <td>778.6</td>\n",
              "    </tr>\n",
              "    <tr>\n",
              "      <th>SATURN</th>\n",
              "      <td>568.0000</td>\n",
              "      <td>120,536</td>\n",
              "      <td>10.7</td>\n",
              "      <td>1433.5</td>\n",
              "    </tr>\n",
              "    <tr>\n",
              "      <th>URANUS</th>\n",
              "      <td>86.8000</td>\n",
              "      <td>51,118</td>\n",
              "      <td>17.2</td>\n",
              "      <td>2872.5</td>\n",
              "    </tr>\n",
              "    <tr>\n",
              "      <th>NEPTUNE</th>\n",
              "      <td>102.0000</td>\n",
              "      <td>49,528</td>\n",
              "      <td>16.1</td>\n",
              "      <td>4495.1</td>\n",
              "    </tr>\n",
              "    <tr>\n",
              "      <th>PLUTO</th>\n",
              "      <td>0.0146</td>\n",
              "      <td>2370</td>\n",
              "      <td>153.3</td>\n",
              "      <td>5906.4</td>\n",
              "    </tr>\n",
              "  </tbody>\n",
              "</table>\n",
              "</div>"
            ],
            "text/plain": [
              "              Mass Diameter  DayLength  SunDistance\n",
              "Planet                                             \n",
              "MERCURY     0.3300     4879     4222.6         57.9\n",
              "VENUS       4.8700   12,104     2802.0        108.2\n",
              "EARTH       5.9700   12,756       24.0        149.6\n",
              "MOON        0.0730     3475      708.7          NaN\n",
              "MARS        0.6420     6792       24.7        227.9\n",
              "JUPITER  1898.0000  142,984        9.9        778.6\n",
              "SATURN    568.0000  120,536       10.7       1433.5\n",
              "URANUS     86.8000   51,118       17.2       2872.5\n",
              "NEPTUNE   102.0000   49,528       16.1       4495.1\n",
              "PLUTO       0.0146     2370      153.3       5906.4"
            ]
          },
          "metadata": {
            "tags": []
          },
          "execution_count": 14
        }
      ]
    },
    {
      "cell_type": "code",
      "metadata": {
        "id": "BlfD2FgUqTCF",
        "colab_type": "code",
        "colab": {
          "base_uri": "https://localhost:8080/",
          "height": 181
        },
        "outputId": "7607dec3-b6af-4091-b0a6-ef1d1ecf879d"
      },
      "source": [
        "planets.info()"
      ],
      "execution_count": 15,
      "outputs": [
        {
          "output_type": "stream",
          "text": [
            "<class 'pandas.core.frame.DataFrame'>\n",
            "Index: 10 entries, MERCURY to PLUTO\n",
            "Data columns (total 4 columns):\n",
            "Mass           10 non-null float64\n",
            "Diameter       10 non-null object\n",
            "DayLength      10 non-null float64\n",
            "SunDistance    9 non-null float64\n",
            "dtypes: float64(3), object(1)\n",
            "memory usage: 400.0+ bytes\n"
          ],
          "name": "stdout"
        }
      ]
    },
    {
      "cell_type": "code",
      "metadata": {
        "id": "nCYgiAgtqYTG",
        "colab_type": "code",
        "colab": {
          "base_uri": "https://localhost:8080/",
          "height": 35
        },
        "outputId": "34b21059-d9af-42b7-a098-7b3ee3e49682"
      },
      "source": [
        "len(planets)"
      ],
      "execution_count": 16,
      "outputs": [
        {
          "output_type": "execute_result",
          "data": {
            "text/plain": [
              "10"
            ]
          },
          "metadata": {
            "tags": []
          },
          "execution_count": 16
        }
      ]
    },
    {
      "cell_type": "code",
      "metadata": {
        "id": "JlIVJXcBqyfx",
        "colab_type": "code",
        "colab": {
          "base_uri": "https://localhost:8080/",
          "height": 108
        },
        "outputId": "af9f0444-70fa-4515-cb7f-af7a82bb2bd1"
      },
      "source": [
        "planets.loc['SATURN']"
      ],
      "execution_count": 17,
      "outputs": [
        {
          "output_type": "execute_result",
          "data": {
            "text/plain": [
              "Mass               568\n",
              "Diameter       120,536\n",
              "DayLength         10.7\n",
              "SunDistance     1433.5\n",
              "Name: SATURN, dtype: object"
            ]
          },
          "metadata": {
            "tags": []
          },
          "execution_count": 17
        }
      ]
    },
    {
      "cell_type": "code",
      "metadata": {
        "id": "5D5-OHo0q4h8",
        "colab_type": "code",
        "colab": {
          "base_uri": "https://localhost:8080/",
          "height": 228
        },
        "outputId": "9623c4b2-a676-4cf2-cce3-54634e642e1c"
      },
      "source": [
        "planets.loc['MARS':'NEPTUNE']"
      ],
      "execution_count": 19,
      "outputs": [
        {
          "output_type": "execute_result",
          "data": {
            "text/html": [
              "<div>\n",
              "<style scoped>\n",
              "    .dataframe tbody tr th:only-of-type {\n",
              "        vertical-align: middle;\n",
              "    }\n",
              "\n",
              "    .dataframe tbody tr th {\n",
              "        vertical-align: top;\n",
              "    }\n",
              "\n",
              "    .dataframe thead th {\n",
              "        text-align: right;\n",
              "    }\n",
              "</style>\n",
              "<table border=\"1\" class=\"dataframe\">\n",
              "  <thead>\n",
              "    <tr style=\"text-align: right;\">\n",
              "      <th></th>\n",
              "      <th>Mass</th>\n",
              "      <th>Diameter</th>\n",
              "      <th>DayLength</th>\n",
              "      <th>SunDistance</th>\n",
              "    </tr>\n",
              "    <tr>\n",
              "      <th>Planet</th>\n",
              "      <th></th>\n",
              "      <th></th>\n",
              "      <th></th>\n",
              "      <th></th>\n",
              "    </tr>\n",
              "  </thead>\n",
              "  <tbody>\n",
              "    <tr>\n",
              "      <th>MARS</th>\n",
              "      <td>0.642</td>\n",
              "      <td>6792</td>\n",
              "      <td>24.7</td>\n",
              "      <td>227.9</td>\n",
              "    </tr>\n",
              "    <tr>\n",
              "      <th>JUPITER</th>\n",
              "      <td>1898.000</td>\n",
              "      <td>142,984</td>\n",
              "      <td>9.9</td>\n",
              "      <td>778.6</td>\n",
              "    </tr>\n",
              "    <tr>\n",
              "      <th>SATURN</th>\n",
              "      <td>568.000</td>\n",
              "      <td>120,536</td>\n",
              "      <td>10.7</td>\n",
              "      <td>1433.5</td>\n",
              "    </tr>\n",
              "    <tr>\n",
              "      <th>URANUS</th>\n",
              "      <td>86.800</td>\n",
              "      <td>51,118</td>\n",
              "      <td>17.2</td>\n",
              "      <td>2872.5</td>\n",
              "    </tr>\n",
              "    <tr>\n",
              "      <th>NEPTUNE</th>\n",
              "      <td>102.000</td>\n",
              "      <td>49,528</td>\n",
              "      <td>16.1</td>\n",
              "      <td>4495.1</td>\n",
              "    </tr>\n",
              "  </tbody>\n",
              "</table>\n",
              "</div>"
            ],
            "text/plain": [
              "             Mass Diameter  DayLength  SunDistance\n",
              "Planet                                            \n",
              "MARS        0.642     6792       24.7        227.9\n",
              "JUPITER  1898.000  142,984        9.9        778.6\n",
              "SATURN    568.000  120,536       10.7       1433.5\n",
              "URANUS     86.800   51,118       17.2       2872.5\n",
              "NEPTUNE   102.000   49,528       16.1       4495.1"
            ]
          },
          "metadata": {
            "tags": []
          },
          "execution_count": 19
        }
      ]
    },
    {
      "cell_type": "code",
      "metadata": {
        "id": "YjiEJNXorRF2",
        "colab_type": "code",
        "colab": {
          "base_uri": "https://localhost:8080/",
          "height": 35
        },
        "outputId": "c398bb51-8983-41de-e352-1cfcac801cd7"
      },
      "source": [
        "planets.columns"
      ],
      "execution_count": 20,
      "outputs": [
        {
          "output_type": "execute_result",
          "data": {
            "text/plain": [
              "Index(['Mass', 'Diameter', 'DayLength', 'SunDistance'], dtype='object')"
            ]
          },
          "metadata": {
            "tags": []
          },
          "execution_count": 20
        }
      ]
    },
    {
      "cell_type": "code",
      "metadata": {
        "id": "firEJc9MrWkp",
        "colab_type": "code",
        "colab": {}
      },
      "source": [
        "planets = pd.read_csv(\"./PyStatsLi/Planets.csv\")\n",
        "planets.set_index('Planet', inplace = True)"
      ],
      "execution_count": 0,
      "outputs": []
    },
    {
      "cell_type": "code",
      "metadata": {
        "id": "gRkB9BUtrapD",
        "colab_type": "code",
        "colab": {
          "base_uri": "https://localhost:8080/",
          "height": 90
        },
        "outputId": "92301c8b-9182-49eb-f380-c1f634210860"
      },
      "source": [
        "planets.columns"
      ],
      "execution_count": 33,
      "outputs": [
        {
          "output_type": "execute_result",
          "data": {
            "text/plain": [
              "Index(['Mass', 'Diameter', 'DayLength', 'SunDistance', 'OrbitPeriod',\n",
              "       'OrbitVelocity', 'MeanTemperature', 'SurfacePressure', 'Moons', 'Rings',\n",
              "       'MagneticField', 'FirstVisited', 'FirstMission'],\n",
              "      dtype='object')"
            ]
          },
          "metadata": {
            "tags": []
          },
          "execution_count": 33
        }
      ]
    },
    {
      "cell_type": "code",
      "metadata": {
        "id": "Rf9ju7n0rdpZ",
        "colab_type": "code",
        "colab": {
          "base_uri": "https://localhost:8080/",
          "height": 235
        },
        "outputId": "a1848e06-1e8a-4999-f3ff-3aa4ac9b2b68"
      },
      "source": [
        "planets.FirstVisited"
      ],
      "execution_count": 32,
      "outputs": [
        {
          "output_type": "execute_result",
          "data": {
            "text/plain": [
              "Planet\n",
              "MERCURY    1974-03-29\n",
              "VENUS      1962-08-27\n",
              "EARTH             NaN\n",
              "MOON       1959-09-12\n",
              "MARS       1965-07-15\n",
              "JUPITER    1973-12-04\n",
              "SATURN     1979-09-01\n",
              "URANUS     1986-01-24\n",
              "NEPTUNE    1989-08-25\n",
              "PLUTO      2015-07-14\n",
              "Name: FirstVisited, dtype: object"
            ]
          },
          "metadata": {
            "tags": []
          },
          "execution_count": 32
        }
      ]
    },
    {
      "cell_type": "code",
      "metadata": {
        "id": "j7AyF7351oEv",
        "colab_type": "code",
        "colab": {
          "base_uri": "https://localhost:8080/",
          "height": 35
        },
        "outputId": "44d76315-f22a-4741-fb17-e3cde30433b4"
      },
      "source": [
        "planets.FirstVisited['MERCURY']"
      ],
      "execution_count": 34,
      "outputs": [
        {
          "output_type": "execute_result",
          "data": {
            "text/plain": [
              "'1974-03-29'"
            ]
          },
          "metadata": {
            "tags": []
          },
          "execution_count": 34
        }
      ]
    },
    {
      "cell_type": "code",
      "metadata": {
        "id": "ijXVyWIO1zP0",
        "colab_type": "code",
        "colab": {
          "base_uri": "https://localhost:8080/",
          "height": 35
        },
        "outputId": "f28ffcb1-9534-4e31-8ad8-0ac95e6a1fa3"
      },
      "source": [
        "planets.loc['MERCURY'].FirstVisited"
      ],
      "execution_count": 35,
      "outputs": [
        {
          "output_type": "execute_result",
          "data": {
            "text/plain": [
              "'1974-03-29'"
            ]
          },
          "metadata": {
            "tags": []
          },
          "execution_count": 35
        }
      ]
    },
    {
      "cell_type": "code",
      "metadata": {
        "id": "USNTgycy1778",
        "colab_type": "code",
        "colab": {
          "base_uri": "https://localhost:8080/",
          "height": 35
        },
        "outputId": "b4dcb318-a549-4ac2-ea33-3beb0783f094"
      },
      "source": [
        "planets.loc['MERCURY', 'FirstVisited']"
      ],
      "execution_count": 36,
      "outputs": [
        {
          "output_type": "execute_result",
          "data": {
            "text/plain": [
              "'1974-03-29'"
            ]
          },
          "metadata": {
            "tags": []
          },
          "execution_count": 36
        }
      ]
    },
    {
      "cell_type": "code",
      "metadata": {
        "id": "-yntUySD2c8q",
        "colab_type": "code",
        "colab": {
          "base_uri": "https://localhost:8080/",
          "height": 35
        },
        "outputId": "8a117553-a8a1-4124-e323-ea8858b1beea"
      },
      "source": [
        "type(planets.loc['MERCURY', 'FirstVisited'])"
      ],
      "execution_count": 37,
      "outputs": [
        {
          "output_type": "execute_result",
          "data": {
            "text/plain": [
              "str"
            ]
          },
          "metadata": {
            "tags": []
          },
          "execution_count": 37
        }
      ]
    },
    {
      "cell_type": "code",
      "metadata": {
        "id": "cFS_jDtr2jXg",
        "colab_type": "code",
        "colab": {
          "base_uri": "https://localhost:8080/",
          "height": 35
        },
        "outputId": "0e1ef628-e8ca-4651-8db1-9fa61a78df66"
      },
      "source": [
        "pd.to_datetime(planets.loc['MERCURY', 'FirstVisited'])"
      ],
      "execution_count": 38,
      "outputs": [
        {
          "output_type": "execute_result",
          "data": {
            "text/plain": [
              "Timestamp('1974-03-29 00:00:00')"
            ]
          },
          "metadata": {
            "tags": []
          },
          "execution_count": 38
        }
      ]
    },
    {
      "cell_type": "code",
      "metadata": {
        "id": "RQNvmiAV2m4o",
        "colab_type": "code",
        "colab": {
          "base_uri": "https://localhost:8080/",
          "height": 235
        },
        "outputId": "aa3cd6d8-dc38-4965-df41-531f9e8dcd06"
      },
      "source": [
        "planets.FirstVisited = pd.to_datetime(planets.FirstVisited)\n",
        "planets.FirstVisited"
      ],
      "execution_count": 42,
      "outputs": [
        {
          "output_type": "execute_result",
          "data": {
            "text/plain": [
              "Planet\n",
              "MERCURY   1974-03-29\n",
              "VENUS     1962-08-27\n",
              "EARTH            NaT\n",
              "MOON      1959-09-12\n",
              "MARS      1965-07-15\n",
              "JUPITER   1973-12-04\n",
              "SATURN    1979-09-01\n",
              "URANUS    1986-01-24\n",
              "NEPTUNE   1989-08-25\n",
              "PLUTO     2015-07-14\n",
              "Name: FirstVisited, dtype: datetime64[ns]"
            ]
          },
          "metadata": {
            "tags": []
          },
          "execution_count": 42
        }
      ]
    },
    {
      "cell_type": "code",
      "metadata": {
        "id": "n0AwpwjL494x",
        "colab_type": "code",
        "colab": {
          "base_uri": "https://localhost:8080/",
          "height": 235
        },
        "outputId": "91897087-eab3-48f2-f78d-a10ac93d3da7"
      },
      "source": [
        "planets.FirstVisited.dt.year"
      ],
      "execution_count": 43,
      "outputs": [
        {
          "output_type": "execute_result",
          "data": {
            "text/plain": [
              "Planet\n",
              "MERCURY    1974.0\n",
              "VENUS      1962.0\n",
              "EARTH         NaN\n",
              "MOON       1959.0\n",
              "MARS       1965.0\n",
              "JUPITER    1973.0\n",
              "SATURN     1979.0\n",
              "URANUS     1986.0\n",
              "NEPTUNE    1989.0\n",
              "PLUTO      2015.0\n",
              "Name: FirstVisited, dtype: float64"
            ]
          },
          "metadata": {
            "tags": []
          },
          "execution_count": 43
        }
      ]
    },
    {
      "cell_type": "code",
      "metadata": {
        "id": "p6P28x515JGt",
        "colab_type": "code",
        "colab": {
          "base_uri": "https://localhost:8080/",
          "height": 235
        },
        "outputId": "ad262ac8-ed25-49c7-9a0f-8b88f8e57fc5"
      },
      "source": [
        "2019 - planets.FirstVisited.dt.year"
      ],
      "execution_count": 44,
      "outputs": [
        {
          "output_type": "execute_result",
          "data": {
            "text/plain": [
              "Planet\n",
              "MERCURY    45.0\n",
              "VENUS      57.0\n",
              "EARTH       NaN\n",
              "MOON       60.0\n",
              "MARS       54.0\n",
              "JUPITER    46.0\n",
              "SATURN     40.0\n",
              "URANUS     33.0\n",
              "NEPTUNE    30.0\n",
              "PLUTO       4.0\n",
              "Name: FirstVisited, dtype: float64"
            ]
          },
          "metadata": {
            "tags": []
          },
          "execution_count": 44
        }
      ]
    }
  ]
}