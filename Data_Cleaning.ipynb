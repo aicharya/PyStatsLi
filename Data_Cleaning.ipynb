{
  "nbformat": 4,
  "nbformat_minor": 0,
  "metadata": {
    "colab": {
      "name": "Data_Cleaning.ipynb",
      "version": "0.3.2",
      "provenance": [],
      "include_colab_link": true
    },
    "kernelspec": {
      "name": "python3",
      "display_name": "Python 3"
    }
  },
  "cells": [
    {
      "cell_type": "markdown",
      "metadata": {
        "id": "view-in-github",
        "colab_type": "text"
      },
      "source": [
        "<a href=\"https://colab.research.google.com/github/aicharya/PyStatsLi/blob/master/Data_Cleaning.ipynb\" target=\"_parent\"><img src=\"https://colab.research.google.com/assets/colab-badge.svg\" alt=\"Open In Colab\"/></a>"
      ]
    },
    {
      "cell_type": "code",
      "metadata": {
        "id": "jzZ9oJsiFhWX",
        "colab_type": "code",
        "outputId": "6edc67af-b15a-47dd-b44f-ac6711435d56",
        "colab": {
          "base_uri": "https://localhost:8080/",
          "height": 126
        }
      },
      "source": [
        "!rm -rf ./PyStatsLi\n",
        "!git clone https://github.com/aicharya/PyStatsLi.git"
      ],
      "execution_count": 27,
      "outputs": [
        {
          "output_type": "stream",
          "text": [
            "Cloning into 'PyStatsLi'...\n",
            "remote: Enumerating objects: 55, done.\u001b[K\n",
            "remote: Counting objects:   1% (1/55)   \u001b[K\rremote: Counting objects:   3% (2/55)   \u001b[K\rremote: Counting objects:   5% (3/55)   \u001b[K\rremote: Counting objects:   7% (4/55)   \u001b[K\rremote: Counting objects:   9% (5/55)   \u001b[K\rremote: Counting objects:  10% (6/55)   \u001b[K\rremote: Counting objects:  12% (7/55)   \u001b[K\rremote: Counting objects:  14% (8/55)   \u001b[K\rremote: Counting objects:  16% (9/55)   \u001b[K\rremote: Counting objects:  18% (10/55)   \u001b[K\rremote: Counting objects:  20% (11/55)   \u001b[K\rremote: Counting objects:  21% (12/55)   \u001b[K\rremote: Counting objects:  23% (13/55)   \u001b[K\rremote: Counting objects:  25% (14/55)   \u001b[K\rremote: Counting objects:  27% (15/55)   \u001b[K\rremote: Counting objects:  29% (16/55)   \u001b[K\rremote: Counting objects:  30% (17/55)   \u001b[K\rremote: Counting objects:  32% (18/55)   \u001b[K\rremote: Counting objects:  34% (19/55)   \u001b[K\rremote: Counting objects:  36% (20/55)   \u001b[K\rremote: Counting objects:  38% (21/55)   \u001b[K\rremote: Counting objects:  40% (22/55)   \u001b[K\rremote: Counting objects:  41% (23/55)   \u001b[K\rremote: Counting objects:  43% (24/55)   \u001b[K\rremote: Counting objects:  45% (25/55)   \u001b[K\rremote: Counting objects:  47% (26/55)   \u001b[K\rremote: Counting objects:  49% (27/55)   \u001b[K\rremote: Counting objects:  50% (28/55)   \u001b[K\rremote: Counting objects:  52% (29/55)   \u001b[K\rremote: Counting objects:  54% (30/55)   \u001b[K\rremote: Counting objects:  56% (31/55)   \u001b[K\rremote: Counting objects:  58% (32/55)   \u001b[K\rremote: Counting objects:  60% (33/55)   \u001b[K\rremote: Counting objects:  61% (34/55)   \u001b[K\rremote: Counting objects:  63% (35/55)   \u001b[K\rremote: Counting objects:  65% (36/55)   \u001b[K\rremote: Counting objects:  67% (37/55)   \u001b[K\rremote: Counting objects:  69% (38/55)   \u001b[K\rremote: Counting objects:  70% (39/55)   \u001b[K\rremote: Counting objects:  72% (40/55)   \u001b[K\rremote: Counting objects:  74% (41/55)   \u001b[K\rremote: Counting objects:  76% (42/55)   \u001b[K\rremote: Counting objects:  78% (43/55)   \u001b[K\rremote: Counting objects:  80% (44/55)   \u001b[K\rremote: Counting objects:  81% (45/55)   \u001b[K\rremote: Counting objects:  83% (46/55)   \u001b[K\rremote: Counting objects:  85% (47/55)   \u001b[K\rremote: Counting objects:  87% (48/55)   \u001b[K\rremote: Counting objects:  89% (49/55)   \u001b[K\rremote: Counting objects:  90% (50/55)   \u001b[K\rremote: Counting objects:  92% (51/55)   \u001b[K\rremote: Counting objects:  94% (52/55)   \u001b[K\rremote: Counting objects:  96% (53/55)   \u001b[K\rremote: Counting objects:  98% (54/55)   \u001b[K\rremote: Counting objects: 100% (55/55)   \u001b[K\rremote: Counting objects: 100% (55/55), done.\u001b[K\n",
            "remote: Compressing objects:   1% (1/53)   \u001b[K\rremote: Compressing objects:   3% (2/53)   \u001b[K\rremote: Compressing objects:   5% (3/53)   \u001b[K\rremote: Compressing objects:   7% (4/53)   \u001b[K\rremote: Compressing objects:   9% (5/53)   \u001b[K\rremote: Compressing objects:  11% (6/53)   \u001b[K\rremote: Compressing objects:  13% (7/53)   \u001b[K\rremote: Compressing objects:  15% (8/53)   \u001b[K\rremote: Compressing objects:  16% (9/53)   \u001b[K\rremote: Compressing objects:  18% (10/53)   \u001b[K\rremote: Compressing objects:  20% (11/53)   \u001b[K\rremote: Compressing objects:  22% (12/53)   \u001b[K\rremote: Compressing objects:  24% (13/53)   \u001b[K\rremote: Compressing objects:  26% (14/53)   \u001b[K\rremote: Compressing objects:  28% (15/53)   \u001b[K\rremote: Compressing objects:  30% (16/53)   \u001b[K\rremote: Compressing objects:  32% (17/53)   \u001b[K\rremote: Compressing objects:  33% (18/53)   \u001b[K\rremote: Compressing objects:  35% (19/53)   \u001b[K\rremote: Compressing objects:  37% (20/53)   \u001b[K\rremote: Compressing objects:  39% (21/53)   \u001b[K\rremote: Compressing objects:  41% (22/53)   \u001b[K\rremote: Compressing objects:  43% (23/53)   \u001b[K\rremote: Compressing objects:  45% (24/53)   \u001b[K\rremote: Compressing objects:  47% (25/53)   \u001b[K\rremote: Compressing objects:  49% (26/53)   \u001b[K\rremote: Compressing objects:  50% (27/53)   \u001b[K\rremote: Compressing objects:  52% (28/53)   \u001b[K\rremote: Compressing objects:  54% (29/53)   \u001b[K\rremote: Compressing objects:  56% (30/53)   \u001b[K\rremote: Compressing objects:  58% (31/53)   \u001b[K\rremote: Compressing objects:  60% (32/53)   \u001b[K\rremote: Compressing objects:  62% (33/53)   \u001b[K\rremote: Compressing objects:  64% (34/53)   \u001b[K\rremote: Compressing objects:  66% (35/53)   \u001b[K\rremote: Compressing objects:  67% (36/53)   \u001b[K\rremote: Compressing objects:  69% (37/53)   \u001b[K\rremote: Compressing objects:  71% (38/53)   \u001b[K\rremote: Compressing objects:  73% (39/53)   \u001b[K\rremote: Compressing objects:  75% (40/53)   \u001b[K\rremote: Compressing objects:  77% (41/53)   \u001b[K\rremote: Compressing objects:  79% (42/53)   \u001b[K\rremote: Compressing objects:  81% (43/53)   \u001b[K\rremote: Compressing objects:  83% (44/53)   \u001b[K\rremote: Compressing objects:  84% (45/53)   \u001b[K\rremote: Compressing objects:  86% (46/53)   \u001b[K\rremote: Compressing objects:  88% (47/53)   \u001b[K\rremote: Compressing objects:  90% (48/53)   \u001b[K\rremote: Compressing objects:  92% (49/53)   \u001b[K\rremote: Compressing objects:  94% (50/53)   \u001b[K\rremote: Compressing objects:  96% (51/53)   \u001b[K\rremote: Compressing objects:  98% (52/53)   \u001b[K\rremote: Compressing objects: 100% (53/53)   \u001b[K\rremote: Compressing objects: 100% (53/53), done.\u001b[K\n",
            "Unpacking objects:   1% (1/55)   \rUnpacking objects:   3% (2/55)   \rUnpacking objects:   5% (3/55)   \rUnpacking objects:   7% (4/55)   \rUnpacking objects:   9% (5/55)   \rUnpacking objects:  10% (6/55)   \rUnpacking objects:  12% (7/55)   \rUnpacking objects:  14% (8/55)   \rUnpacking objects:  16% (9/55)   \rUnpacking objects:  18% (10/55)   \rUnpacking objects:  20% (11/55)   \rUnpacking objects:  21% (12/55)   \rUnpacking objects:  23% (13/55)   \rUnpacking objects:  25% (14/55)   \rUnpacking objects:  27% (15/55)   \rUnpacking objects:  29% (16/55)   \rUnpacking objects:  30% (17/55)   \rUnpacking objects:  32% (18/55)   \rUnpacking objects:  34% (19/55)   \rUnpacking objects:  36% (20/55)   \rUnpacking objects:  38% (21/55)   \rremote: Total 55 (delta 19), reused 8 (delta 0), pack-reused 0\u001b[K\n",
            "Unpacking objects:  40% (22/55)   \rUnpacking objects:  41% (23/55)   \rUnpacking objects:  43% (24/55)   \rUnpacking objects:  45% (25/55)   \rUnpacking objects:  47% (26/55)   \rUnpacking objects:  49% (27/55)   \rUnpacking objects:  50% (28/55)   \rUnpacking objects:  52% (29/55)   \rUnpacking objects:  54% (30/55)   \rUnpacking objects:  56% (31/55)   \rUnpacking objects:  58% (32/55)   \rUnpacking objects:  60% (33/55)   \rUnpacking objects:  61% (34/55)   \rUnpacking objects:  63% (35/55)   \rUnpacking objects:  65% (36/55)   \rUnpacking objects:  67% (37/55)   \rUnpacking objects:  69% (38/55)   \rUnpacking objects:  70% (39/55)   \rUnpacking objects:  72% (40/55)   \rUnpacking objects:  74% (41/55)   \rUnpacking objects:  76% (42/55)   \rUnpacking objects:  78% (43/55)   \rUnpacking objects:  80% (44/55)   \rUnpacking objects:  81% (45/55)   \rUnpacking objects:  83% (46/55)   \rUnpacking objects:  85% (47/55)   \rUnpacking objects:  87% (48/55)   \rUnpacking objects:  89% (49/55)   \rUnpacking objects:  90% (50/55)   \rUnpacking objects:  92% (51/55)   \rUnpacking objects:  94% (52/55)   \rUnpacking objects:  96% (53/55)   \rUnpacking objects:  98% (54/55)   \rUnpacking objects: 100% (55/55)   \rUnpacking objects: 100% (55/55), done.\n"
          ],
          "name": "stdout"
        }
      ]
    },
    {
      "cell_type": "code",
      "metadata": {
        "id": "QGacocLdHH7B",
        "colab_type": "code",
        "colab": {}
      },
      "source": [
        "import pandas as pd"
      ],
      "execution_count": 0,
      "outputs": []
    },
    {
      "cell_type": "code",
      "metadata": {
        "id": "24Rpar8oHLXH",
        "colab_type": "code",
        "colab": {}
      },
      "source": [
        "#billboard = pd.read_csv( './PyStatsLi/billboard.csv' )"
      ],
      "execution_count": 0,
      "outputs": []
    },
    {
      "cell_type": "markdown",
      "metadata": {
        "id": "-C_z25KEy6wz",
        "colab_type": "text"
      },
      "source": [
        "Encoding issue, if we try to read directly as above."
      ]
    },
    {
      "cell_type": "code",
      "metadata": {
        "id": "hGt4joNHHWsV",
        "colab_type": "code",
        "colab": {}
      },
      "source": [
        "billboard = pd.read_csv( './PyStatsLi/billboard.csv', encoding = 'latin-1' )"
      ],
      "execution_count": 0,
      "outputs": []
    },
    {
      "cell_type": "code",
      "metadata": {
        "id": "rpDpzaw1HeQ5",
        "colab_type": "code",
        "outputId": "b57566b1-2747-458a-a2e3-639e7749cad9",
        "colab": {
          "base_uri": "https://localhost:8080/",
          "height": 351
        }
      },
      "source": [
        "billboard.head()"
      ],
      "execution_count": 31,
      "outputs": [
        {
          "output_type": "execute_result",
          "data": {
            "text/html": [
              "<div>\n",
              "<style scoped>\n",
              "    .dataframe tbody tr th:only-of-type {\n",
              "        vertical-align: middle;\n",
              "    }\n",
              "\n",
              "    .dataframe tbody tr th {\n",
              "        vertical-align: top;\n",
              "    }\n",
              "\n",
              "    .dataframe thead th {\n",
              "        text-align: right;\n",
              "    }\n",
              "</style>\n",
              "<table border=\"1\" class=\"dataframe\">\n",
              "  <thead>\n",
              "    <tr style=\"text-align: right;\">\n",
              "      <th></th>\n",
              "      <th>year</th>\n",
              "      <th>artist.inverted</th>\n",
              "      <th>track</th>\n",
              "      <th>time</th>\n",
              "      <th>genre</th>\n",
              "      <th>date.entered</th>\n",
              "      <th>date.peaked</th>\n",
              "      <th>x1st.week</th>\n",
              "      <th>x2nd.week</th>\n",
              "      <th>x3rd.week</th>\n",
              "      <th>x4th.week</th>\n",
              "      <th>x5th.week</th>\n",
              "      <th>x6th.week</th>\n",
              "      <th>x7th.week</th>\n",
              "      <th>x8th.week</th>\n",
              "      <th>x9th.week</th>\n",
              "      <th>x10th.week</th>\n",
              "      <th>x11th.week</th>\n",
              "      <th>x12th.week</th>\n",
              "      <th>x13th.week</th>\n",
              "      <th>x14th.week</th>\n",
              "      <th>x15th.week</th>\n",
              "      <th>x16th.week</th>\n",
              "      <th>x17th.week</th>\n",
              "      <th>x18th.week</th>\n",
              "      <th>x19th.week</th>\n",
              "      <th>x20th.week</th>\n",
              "      <th>x21st.week</th>\n",
              "      <th>x22nd.week</th>\n",
              "      <th>x23rd.week</th>\n",
              "      <th>x24th.week</th>\n",
              "      <th>x25th.week</th>\n",
              "      <th>x26th.week</th>\n",
              "      <th>x27th.week</th>\n",
              "      <th>x28th.week</th>\n",
              "      <th>x29th.week</th>\n",
              "      <th>x30th.week</th>\n",
              "      <th>x31st.week</th>\n",
              "      <th>x32nd.week</th>\n",
              "      <th>x33rd.week</th>\n",
              "      <th>...</th>\n",
              "      <th>x37th.week</th>\n",
              "      <th>x38th.week</th>\n",
              "      <th>x39th.week</th>\n",
              "      <th>x40th.week</th>\n",
              "      <th>x41st.week</th>\n",
              "      <th>x42nd.week</th>\n",
              "      <th>x43rd.week</th>\n",
              "      <th>x44th.week</th>\n",
              "      <th>x45th.week</th>\n",
              "      <th>x46th.week</th>\n",
              "      <th>x47th.week</th>\n",
              "      <th>x48th.week</th>\n",
              "      <th>x49th.week</th>\n",
              "      <th>x50th.week</th>\n",
              "      <th>x51st.week</th>\n",
              "      <th>x52nd.week</th>\n",
              "      <th>x53rd.week</th>\n",
              "      <th>x54th.week</th>\n",
              "      <th>x55th.week</th>\n",
              "      <th>x56th.week</th>\n",
              "      <th>x57th.week</th>\n",
              "      <th>x58th.week</th>\n",
              "      <th>x59th.week</th>\n",
              "      <th>x60th.week</th>\n",
              "      <th>x61st.week</th>\n",
              "      <th>x62nd.week</th>\n",
              "      <th>x63rd.week</th>\n",
              "      <th>x64th.week</th>\n",
              "      <th>x65th.week</th>\n",
              "      <th>x66th.week</th>\n",
              "      <th>x67th.week</th>\n",
              "      <th>x68th.week</th>\n",
              "      <th>x69th.week</th>\n",
              "      <th>x70th.week</th>\n",
              "      <th>x71st.week</th>\n",
              "      <th>x72nd.week</th>\n",
              "      <th>x73rd.week</th>\n",
              "      <th>x74th.week</th>\n",
              "      <th>x75th.week</th>\n",
              "      <th>x76th.week</th>\n",
              "    </tr>\n",
              "  </thead>\n",
              "  <tbody>\n",
              "    <tr>\n",
              "      <th>0</th>\n",
              "      <td>2000</td>\n",
              "      <td>Destiny's Child</td>\n",
              "      <td>Independent Women Part I</td>\n",
              "      <td>3:38</td>\n",
              "      <td>Rock</td>\n",
              "      <td>2000-09-23</td>\n",
              "      <td>2000-11-18</td>\n",
              "      <td>78</td>\n",
              "      <td>63.0</td>\n",
              "      <td>49.0</td>\n",
              "      <td>33.0</td>\n",
              "      <td>23.0</td>\n",
              "      <td>15.0</td>\n",
              "      <td>7.0</td>\n",
              "      <td>5.0</td>\n",
              "      <td>1.0</td>\n",
              "      <td>1.0</td>\n",
              "      <td>1.0</td>\n",
              "      <td>1.0</td>\n",
              "      <td>1.0</td>\n",
              "      <td>1.0</td>\n",
              "      <td>1.0</td>\n",
              "      <td>1.0</td>\n",
              "      <td>1.0</td>\n",
              "      <td>1.0</td>\n",
              "      <td>1.0</td>\n",
              "      <td>2.0</td>\n",
              "      <td>3.0</td>\n",
              "      <td>7.0</td>\n",
              "      <td>10.0</td>\n",
              "      <td>12.0</td>\n",
              "      <td>15.0</td>\n",
              "      <td>22.0</td>\n",
              "      <td>29.0</td>\n",
              "      <td>31.0</td>\n",
              "      <td>NaN</td>\n",
              "      <td>NaN</td>\n",
              "      <td>NaN</td>\n",
              "      <td>NaN</td>\n",
              "      <td>NaN</td>\n",
              "      <td>...</td>\n",
              "      <td>NaN</td>\n",
              "      <td>NaN</td>\n",
              "      <td>NaN</td>\n",
              "      <td>NaN</td>\n",
              "      <td>NaN</td>\n",
              "      <td>NaN</td>\n",
              "      <td>NaN</td>\n",
              "      <td>NaN</td>\n",
              "      <td>NaN</td>\n",
              "      <td>NaN</td>\n",
              "      <td>NaN</td>\n",
              "      <td>NaN</td>\n",
              "      <td>NaN</td>\n",
              "      <td>NaN</td>\n",
              "      <td>NaN</td>\n",
              "      <td>NaN</td>\n",
              "      <td>NaN</td>\n",
              "      <td>NaN</td>\n",
              "      <td>NaN</td>\n",
              "      <td>NaN</td>\n",
              "      <td>NaN</td>\n",
              "      <td>NaN</td>\n",
              "      <td>NaN</td>\n",
              "      <td>NaN</td>\n",
              "      <td>NaN</td>\n",
              "      <td>NaN</td>\n",
              "      <td>NaN</td>\n",
              "      <td>NaN</td>\n",
              "      <td>NaN</td>\n",
              "      <td>NaN</td>\n",
              "      <td>NaN</td>\n",
              "      <td>NaN</td>\n",
              "      <td>NaN</td>\n",
              "      <td>NaN</td>\n",
              "      <td>NaN</td>\n",
              "      <td>NaN</td>\n",
              "      <td>NaN</td>\n",
              "      <td>NaN</td>\n",
              "      <td>NaN</td>\n",
              "      <td>NaN</td>\n",
              "    </tr>\n",
              "    <tr>\n",
              "      <th>1</th>\n",
              "      <td>2000</td>\n",
              "      <td>Santana</td>\n",
              "      <td>Maria, Maria</td>\n",
              "      <td>4:18</td>\n",
              "      <td>Rock</td>\n",
              "      <td>2000-02-12</td>\n",
              "      <td>2000-04-08</td>\n",
              "      <td>15</td>\n",
              "      <td>8.0</td>\n",
              "      <td>6.0</td>\n",
              "      <td>5.0</td>\n",
              "      <td>2.0</td>\n",
              "      <td>3.0</td>\n",
              "      <td>2.0</td>\n",
              "      <td>2.0</td>\n",
              "      <td>1.0</td>\n",
              "      <td>1.0</td>\n",
              "      <td>1.0</td>\n",
              "      <td>1.0</td>\n",
              "      <td>1.0</td>\n",
              "      <td>1.0</td>\n",
              "      <td>1.0</td>\n",
              "      <td>1.0</td>\n",
              "      <td>1.0</td>\n",
              "      <td>1.0</td>\n",
              "      <td>8.0</td>\n",
              "      <td>15.0</td>\n",
              "      <td>19.0</td>\n",
              "      <td>21.0</td>\n",
              "      <td>26.0</td>\n",
              "      <td>36.0</td>\n",
              "      <td>48.0</td>\n",
              "      <td>47.0</td>\n",
              "      <td>NaN</td>\n",
              "      <td>NaN</td>\n",
              "      <td>NaN</td>\n",
              "      <td>NaN</td>\n",
              "      <td>NaN</td>\n",
              "      <td>NaN</td>\n",
              "      <td>NaN</td>\n",
              "      <td>...</td>\n",
              "      <td>NaN</td>\n",
              "      <td>NaN</td>\n",
              "      <td>NaN</td>\n",
              "      <td>NaN</td>\n",
              "      <td>NaN</td>\n",
              "      <td>NaN</td>\n",
              "      <td>NaN</td>\n",
              "      <td>NaN</td>\n",
              "      <td>NaN</td>\n",
              "      <td>NaN</td>\n",
              "      <td>NaN</td>\n",
              "      <td>NaN</td>\n",
              "      <td>NaN</td>\n",
              "      <td>NaN</td>\n",
              "      <td>NaN</td>\n",
              "      <td>NaN</td>\n",
              "      <td>NaN</td>\n",
              "      <td>NaN</td>\n",
              "      <td>NaN</td>\n",
              "      <td>NaN</td>\n",
              "      <td>NaN</td>\n",
              "      <td>NaN</td>\n",
              "      <td>NaN</td>\n",
              "      <td>NaN</td>\n",
              "      <td>NaN</td>\n",
              "      <td>NaN</td>\n",
              "      <td>NaN</td>\n",
              "      <td>NaN</td>\n",
              "      <td>NaN</td>\n",
              "      <td>NaN</td>\n",
              "      <td>NaN</td>\n",
              "      <td>NaN</td>\n",
              "      <td>NaN</td>\n",
              "      <td>NaN</td>\n",
              "      <td>NaN</td>\n",
              "      <td>NaN</td>\n",
              "      <td>NaN</td>\n",
              "      <td>NaN</td>\n",
              "      <td>NaN</td>\n",
              "      <td>NaN</td>\n",
              "    </tr>\n",
              "    <tr>\n",
              "      <th>2</th>\n",
              "      <td>2000</td>\n",
              "      <td>Savage Garden</td>\n",
              "      <td>I Knew I Loved You</td>\n",
              "      <td>4:07</td>\n",
              "      <td>Rock</td>\n",
              "      <td>1999-10-23</td>\n",
              "      <td>2000-01-29</td>\n",
              "      <td>71</td>\n",
              "      <td>48.0</td>\n",
              "      <td>43.0</td>\n",
              "      <td>31.0</td>\n",
              "      <td>20.0</td>\n",
              "      <td>13.0</td>\n",
              "      <td>7.0</td>\n",
              "      <td>6.0</td>\n",
              "      <td>4.0</td>\n",
              "      <td>4.0</td>\n",
              "      <td>4.0</td>\n",
              "      <td>6.0</td>\n",
              "      <td>4.0</td>\n",
              "      <td>2.0</td>\n",
              "      <td>1.0</td>\n",
              "      <td>1.0</td>\n",
              "      <td>1.0</td>\n",
              "      <td>2.0</td>\n",
              "      <td>1.0</td>\n",
              "      <td>2.0</td>\n",
              "      <td>4.0</td>\n",
              "      <td>8.0</td>\n",
              "      <td>8.0</td>\n",
              "      <td>12.0</td>\n",
              "      <td>14.0</td>\n",
              "      <td>17.0</td>\n",
              "      <td>21.0</td>\n",
              "      <td>24.0</td>\n",
              "      <td>30.0</td>\n",
              "      <td>34.0</td>\n",
              "      <td>37.0</td>\n",
              "      <td>46.0</td>\n",
              "      <td>47.0</td>\n",
              "      <td>...</td>\n",
              "      <td>NaN</td>\n",
              "      <td>NaN</td>\n",
              "      <td>NaN</td>\n",
              "      <td>NaN</td>\n",
              "      <td>NaN</td>\n",
              "      <td>NaN</td>\n",
              "      <td>NaN</td>\n",
              "      <td>NaN</td>\n",
              "      <td>NaN</td>\n",
              "      <td>NaN</td>\n",
              "      <td>NaN</td>\n",
              "      <td>NaN</td>\n",
              "      <td>NaN</td>\n",
              "      <td>NaN</td>\n",
              "      <td>NaN</td>\n",
              "      <td>NaN</td>\n",
              "      <td>NaN</td>\n",
              "      <td>NaN</td>\n",
              "      <td>NaN</td>\n",
              "      <td>NaN</td>\n",
              "      <td>NaN</td>\n",
              "      <td>NaN</td>\n",
              "      <td>NaN</td>\n",
              "      <td>NaN</td>\n",
              "      <td>NaN</td>\n",
              "      <td>NaN</td>\n",
              "      <td>NaN</td>\n",
              "      <td>NaN</td>\n",
              "      <td>NaN</td>\n",
              "      <td>NaN</td>\n",
              "      <td>NaN</td>\n",
              "      <td>NaN</td>\n",
              "      <td>NaN</td>\n",
              "      <td>NaN</td>\n",
              "      <td>NaN</td>\n",
              "      <td>NaN</td>\n",
              "      <td>NaN</td>\n",
              "      <td>NaN</td>\n",
              "      <td>NaN</td>\n",
              "      <td>NaN</td>\n",
              "    </tr>\n",
              "    <tr>\n",
              "      <th>3</th>\n",
              "      <td>2000</td>\n",
              "      <td>Madonna</td>\n",
              "      <td>Music</td>\n",
              "      <td>3:45</td>\n",
              "      <td>Rock</td>\n",
              "      <td>2000-08-12</td>\n",
              "      <td>2000-09-16</td>\n",
              "      <td>41</td>\n",
              "      <td>23.0</td>\n",
              "      <td>18.0</td>\n",
              "      <td>14.0</td>\n",
              "      <td>2.0</td>\n",
              "      <td>1.0</td>\n",
              "      <td>1.0</td>\n",
              "      <td>1.0</td>\n",
              "      <td>1.0</td>\n",
              "      <td>2.0</td>\n",
              "      <td>2.0</td>\n",
              "      <td>2.0</td>\n",
              "      <td>2.0</td>\n",
              "      <td>2.0</td>\n",
              "      <td>4.0</td>\n",
              "      <td>8.0</td>\n",
              "      <td>11.0</td>\n",
              "      <td>16.0</td>\n",
              "      <td>20.0</td>\n",
              "      <td>25.0</td>\n",
              "      <td>27.0</td>\n",
              "      <td>27.0</td>\n",
              "      <td>29.0</td>\n",
              "      <td>44.0</td>\n",
              "      <td>NaN</td>\n",
              "      <td>NaN</td>\n",
              "      <td>NaN</td>\n",
              "      <td>NaN</td>\n",
              "      <td>NaN</td>\n",
              "      <td>NaN</td>\n",
              "      <td>NaN</td>\n",
              "      <td>NaN</td>\n",
              "      <td>NaN</td>\n",
              "      <td>...</td>\n",
              "      <td>NaN</td>\n",
              "      <td>NaN</td>\n",
              "      <td>NaN</td>\n",
              "      <td>NaN</td>\n",
              "      <td>NaN</td>\n",
              "      <td>NaN</td>\n",
              "      <td>NaN</td>\n",
              "      <td>NaN</td>\n",
              "      <td>NaN</td>\n",
              "      <td>NaN</td>\n",
              "      <td>NaN</td>\n",
              "      <td>NaN</td>\n",
              "      <td>NaN</td>\n",
              "      <td>NaN</td>\n",
              "      <td>NaN</td>\n",
              "      <td>NaN</td>\n",
              "      <td>NaN</td>\n",
              "      <td>NaN</td>\n",
              "      <td>NaN</td>\n",
              "      <td>NaN</td>\n",
              "      <td>NaN</td>\n",
              "      <td>NaN</td>\n",
              "      <td>NaN</td>\n",
              "      <td>NaN</td>\n",
              "      <td>NaN</td>\n",
              "      <td>NaN</td>\n",
              "      <td>NaN</td>\n",
              "      <td>NaN</td>\n",
              "      <td>NaN</td>\n",
              "      <td>NaN</td>\n",
              "      <td>NaN</td>\n",
              "      <td>NaN</td>\n",
              "      <td>NaN</td>\n",
              "      <td>NaN</td>\n",
              "      <td>NaN</td>\n",
              "      <td>NaN</td>\n",
              "      <td>NaN</td>\n",
              "      <td>NaN</td>\n",
              "      <td>NaN</td>\n",
              "      <td>NaN</td>\n",
              "    </tr>\n",
              "    <tr>\n",
              "      <th>4</th>\n",
              "      <td>2000</td>\n",
              "      <td>Aguilera, Christina</td>\n",
              "      <td>Come On Over Baby (All I Want Is You)</td>\n",
              "      <td>3:38</td>\n",
              "      <td>Rock</td>\n",
              "      <td>2000-08-05</td>\n",
              "      <td>2000-10-14</td>\n",
              "      <td>57</td>\n",
              "      <td>47.0</td>\n",
              "      <td>45.0</td>\n",
              "      <td>29.0</td>\n",
              "      <td>23.0</td>\n",
              "      <td>18.0</td>\n",
              "      <td>11.0</td>\n",
              "      <td>9.0</td>\n",
              "      <td>9.0</td>\n",
              "      <td>11.0</td>\n",
              "      <td>1.0</td>\n",
              "      <td>1.0</td>\n",
              "      <td>1.0</td>\n",
              "      <td>1.0</td>\n",
              "      <td>4.0</td>\n",
              "      <td>8.0</td>\n",
              "      <td>12.0</td>\n",
              "      <td>22.0</td>\n",
              "      <td>23.0</td>\n",
              "      <td>43.0</td>\n",
              "      <td>44.0</td>\n",
              "      <td>NaN</td>\n",
              "      <td>NaN</td>\n",
              "      <td>NaN</td>\n",
              "      <td>NaN</td>\n",
              "      <td>NaN</td>\n",
              "      <td>NaN</td>\n",
              "      <td>NaN</td>\n",
              "      <td>NaN</td>\n",
              "      <td>NaN</td>\n",
              "      <td>NaN</td>\n",
              "      <td>NaN</td>\n",
              "      <td>NaN</td>\n",
              "      <td>...</td>\n",
              "      <td>NaN</td>\n",
              "      <td>NaN</td>\n",
              "      <td>NaN</td>\n",
              "      <td>NaN</td>\n",
              "      <td>NaN</td>\n",
              "      <td>NaN</td>\n",
              "      <td>NaN</td>\n",
              "      <td>NaN</td>\n",
              "      <td>NaN</td>\n",
              "      <td>NaN</td>\n",
              "      <td>NaN</td>\n",
              "      <td>NaN</td>\n",
              "      <td>NaN</td>\n",
              "      <td>NaN</td>\n",
              "      <td>NaN</td>\n",
              "      <td>NaN</td>\n",
              "      <td>NaN</td>\n",
              "      <td>NaN</td>\n",
              "      <td>NaN</td>\n",
              "      <td>NaN</td>\n",
              "      <td>NaN</td>\n",
              "      <td>NaN</td>\n",
              "      <td>NaN</td>\n",
              "      <td>NaN</td>\n",
              "      <td>NaN</td>\n",
              "      <td>NaN</td>\n",
              "      <td>NaN</td>\n",
              "      <td>NaN</td>\n",
              "      <td>NaN</td>\n",
              "      <td>NaN</td>\n",
              "      <td>NaN</td>\n",
              "      <td>NaN</td>\n",
              "      <td>NaN</td>\n",
              "      <td>NaN</td>\n",
              "      <td>NaN</td>\n",
              "      <td>NaN</td>\n",
              "      <td>NaN</td>\n",
              "      <td>NaN</td>\n",
              "      <td>NaN</td>\n",
              "      <td>NaN</td>\n",
              "    </tr>\n",
              "  </tbody>\n",
              "</table>\n",
              "<p>5 rows × 83 columns</p>\n",
              "</div>"
            ],
            "text/plain": [
              "   year      artist.inverted  ... x75th.week x76th.week\n",
              "0  2000      Destiny's Child  ...        NaN        NaN\n",
              "1  2000              Santana  ...        NaN        NaN\n",
              "2  2000        Savage Garden  ...        NaN        NaN\n",
              "3  2000              Madonna  ...        NaN        NaN\n",
              "4  2000  Aguilera, Christina  ...        NaN        NaN\n",
              "\n",
              "[5 rows x 83 columns]"
            ]
          },
          "metadata": {
            "tags": []
          },
          "execution_count": 31
        }
      ]
    },
    {
      "cell_type": "code",
      "metadata": {
        "id": "_60_Fr7bIQ_k",
        "colab_type": "code",
        "outputId": "d93e1fc0-c358-47cc-9848-85777766ed7b",
        "colab": {
          "base_uri": "https://localhost:8080/",
          "height": 345
        }
      },
      "source": [
        "billboard.columns"
      ],
      "execution_count": 32,
      "outputs": [
        {
          "output_type": "execute_result",
          "data": {
            "text/plain": [
              "Index(['year', 'artist.inverted', 'track', 'time', 'genre', 'date.entered',\n",
              "       'date.peaked', 'x1st.week', 'x2nd.week', 'x3rd.week', 'x4th.week',\n",
              "       'x5th.week', 'x6th.week', 'x7th.week', 'x8th.week', 'x9th.week',\n",
              "       'x10th.week', 'x11th.week', 'x12th.week', 'x13th.week', 'x14th.week',\n",
              "       'x15th.week', 'x16th.week', 'x17th.week', 'x18th.week', 'x19th.week',\n",
              "       'x20th.week', 'x21st.week', 'x22nd.week', 'x23rd.week', 'x24th.week',\n",
              "       'x25th.week', 'x26th.week', 'x27th.week', 'x28th.week', 'x29th.week',\n",
              "       'x30th.week', 'x31st.week', 'x32nd.week', 'x33rd.week', 'x34th.week',\n",
              "       'x35th.week', 'x36th.week', 'x37th.week', 'x38th.week', 'x39th.week',\n",
              "       'x40th.week', 'x41st.week', 'x42nd.week', 'x43rd.week', 'x44th.week',\n",
              "       'x45th.week', 'x46th.week', 'x47th.week', 'x48th.week', 'x49th.week',\n",
              "       'x50th.week', 'x51st.week', 'x52nd.week', 'x53rd.week', 'x54th.week',\n",
              "       'x55th.week', 'x56th.week', 'x57th.week', 'x58th.week', 'x59th.week',\n",
              "       'x60th.week', 'x61st.week', 'x62nd.week', 'x63rd.week', 'x64th.week',\n",
              "       'x65th.week', 'x66th.week', 'x67th.week', 'x68th.week', 'x69th.week',\n",
              "       'x70th.week', 'x71st.week', 'x72nd.week', 'x73rd.week', 'x74th.week',\n",
              "       'x75th.week', 'x76th.week'],\n",
              "      dtype='object')"
            ]
          },
          "metadata": {
            "tags": []
          },
          "execution_count": 32
        }
      ]
    },
    {
      "cell_type": "code",
      "metadata": {
        "id": "_Bx36MKTIeUw",
        "colab_type": "code",
        "colab": {}
      },
      "source": [
        "import matplotlib\n",
        "import matplotlib.pyplot as plt\n",
        "\n",
        "%matplotlib inline"
      ],
      "execution_count": 0,
      "outputs": []
    },
    {
      "cell_type": "code",
      "metadata": {
        "id": "cvaTZvTaUU1E",
        "colab_type": "code",
        "outputId": "18880609-e2be-4a1b-b3e6-757b939be843",
        "colab": {
          "base_uri": "https://localhost:8080/",
          "height": 287
        }
      },
      "source": [
        "plt.plot(range(1,77), billboard.loc[0, 'x1st.week':'x76th.week'])"
      ],
      "execution_count": 34,
      "outputs": [
        {
          "output_type": "execute_result",
          "data": {
            "text/plain": [
              "[<matplotlib.lines.Line2D at 0x7fc887cf62e8>]"
            ]
          },
          "metadata": {
            "tags": []
          },
          "execution_count": 34
        },
        {
          "output_type": "display_data",
          "data": {
            "image/png": "[encoded data removed]",
            "text/plain": [
              "<Figure size 432x288 with 1 Axes>"
            ]
          },
          "metadata": {
            "tags": []
          }
        }
      ]
    },
    {
      "cell_type": "code",
      "metadata": {
        "id": "BpBmbCxaIudh",
        "colab_type": "code",
        "outputId": "915f2ef0-5fa0-428d-c341-f2e088e75caa",
        "colab": {
          "base_uri": "https://localhost:8080/",
          "height": 287
        }
      },
      "source": [
        "plt.plot(billboard.loc[0, 'x1st.week':'x76th.week'])"
      ],
      "execution_count": 35,
      "outputs": [
        {
          "output_type": "execute_result",
          "data": {
            "text/plain": [
              "[<matplotlib.lines.Line2D at 0x7fc887c60eb8>]"
            ]
          },
          "metadata": {
            "tags": []
          },
          "execution_count": 35
        },
        {
          "output_type": "display_data",
          "data": {
            "image/png": "[encoded data removed]",
            "text/plain": [
              "<Figure size 432x288 with 1 Axes>"
            ]
          },
          "metadata": {
            "tags": []
          }
        }
      ]
    },
    {
      "cell_type": "code",
      "metadata": {
        "id": "wyUogB_jVZEn",
        "colab_type": "code",
        "outputId": "e83950ed-d431-4f92-aed0-b5566c23272b",
        "colab": {
          "base_uri": "https://localhost:8080/",
          "height": 35
        }
      },
      "source": [
        "billboard.index"
      ],
      "execution_count": 36,
      "outputs": [
        {
          "output_type": "execute_result",
          "data": {
            "text/plain": [
              "RangeIndex(start=0, stop=317, step=1)"
            ]
          },
          "metadata": {
            "tags": []
          },
          "execution_count": 36
        }
      ]
    },
    {
      "cell_type": "code",
      "metadata": {
        "id": "-9ZDi3KzVerJ",
        "colab_type": "code",
        "outputId": "f7cb579d-dcae-4f51-e51c-c8d2a666c0c1",
        "colab": {
          "base_uri": "https://localhost:8080/",
          "height": 269
        }
      },
      "source": [
        "for index,row in billboard.iterrows():\n",
        "  plt.plot(row['x1st.week':'x76th.week'], color='C0', alpha=0.1)"
      ],
      "execution_count": 39,
      "outputs": [
        {
          "output_type": "display_data",
          "data": {
            "image/png": "[encoded data removed]",
            "text/plain": [
              "<Figure size 432x288 with 1 Axes>"
            ]
          },
          "metadata": {
            "tags": []
          }
        }
      ]
    },
    {
      "cell_type": "code",
      "metadata": {
        "id": "whsPJAa2VOlV",
        "colab_type": "code",
        "colab": {}
      },
      "source": [
        "bshort = billboard[ [ 'artist.inverted', 'track', 'time', 'genre', 'date.entered', 'x1st.week', 'x2nd.week', 'x3rd.week' ] ]"
      ],
      "execution_count": 0,
      "outputs": []
    },
    {
      "cell_type": "code",
      "metadata": {
        "id": "VVkE4z1iVwUD",
        "colab_type": "code",
        "outputId": "5d71c923-9e06-46be-afb1-9dbc1d12a1a1",
        "colab": {
          "base_uri": "https://localhost:8080/",
          "height": 198
        }
      },
      "source": [
        "bshort.head()"
      ],
      "execution_count": 41,
      "outputs": [
        {
          "output_type": "execute_result",
          "data": {
            "text/html": [
              "<div>\n",
              "<style scoped>\n",
              "    .dataframe tbody tr th:only-of-type {\n",
              "        vertical-align: middle;\n",
              "    }\n",
              "\n",
              "    .dataframe tbody tr th {\n",
              "        vertical-align: top;\n",
              "    }\n",
              "\n",
              "    .dataframe thead th {\n",
              "        text-align: right;\n",
              "    }\n",
              "</style>\n",
              "<table border=\"1\" class=\"dataframe\">\n",
              "  <thead>\n",
              "    <tr style=\"text-align: right;\">\n",
              "      <th></th>\n",
              "      <th>artist.inverted</th>\n",
              "      <th>track</th>\n",
              "      <th>time</th>\n",
              "      <th>genre</th>\n",
              "      <th>date.entered</th>\n",
              "      <th>x1st.week</th>\n",
              "      <th>x2nd.week</th>\n",
              "      <th>x3rd.week</th>\n",
              "    </tr>\n",
              "  </thead>\n",
              "  <tbody>\n",
              "    <tr>\n",
              "      <th>0</th>\n",
              "      <td>Destiny's Child</td>\n",
              "      <td>Independent Women Part I</td>\n",
              "      <td>3:38</td>\n",
              "      <td>Rock</td>\n",
              "      <td>2000-09-23</td>\n",
              "      <td>78</td>\n",
              "      <td>63.0</td>\n",
              "      <td>49.0</td>\n",
              "    </tr>\n",
              "    <tr>\n",
              "      <th>1</th>\n",
              "      <td>Santana</td>\n",
              "      <td>Maria, Maria</td>\n",
              "      <td>4:18</td>\n",
              "      <td>Rock</td>\n",
              "      <td>2000-02-12</td>\n",
              "      <td>15</td>\n",
              "      <td>8.0</td>\n",
              "      <td>6.0</td>\n",
              "    </tr>\n",
              "    <tr>\n",
              "      <th>2</th>\n",
              "      <td>Savage Garden</td>\n",
              "      <td>I Knew I Loved You</td>\n",
              "      <td>4:07</td>\n",
              "      <td>Rock</td>\n",
              "      <td>1999-10-23</td>\n",
              "      <td>71</td>\n",
              "      <td>48.0</td>\n",
              "      <td>43.0</td>\n",
              "    </tr>\n",
              "    <tr>\n",
              "      <th>3</th>\n",
              "      <td>Madonna</td>\n",
              "      <td>Music</td>\n",
              "      <td>3:45</td>\n",
              "      <td>Rock</td>\n",
              "      <td>2000-08-12</td>\n",
              "      <td>41</td>\n",
              "      <td>23.0</td>\n",
              "      <td>18.0</td>\n",
              "    </tr>\n",
              "    <tr>\n",
              "      <th>4</th>\n",
              "      <td>Aguilera, Christina</td>\n",
              "      <td>Come On Over Baby (All I Want Is You)</td>\n",
              "      <td>3:38</td>\n",
              "      <td>Rock</td>\n",
              "      <td>2000-08-05</td>\n",
              "      <td>57</td>\n",
              "      <td>47.0</td>\n",
              "      <td>45.0</td>\n",
              "    </tr>\n",
              "  </tbody>\n",
              "</table>\n",
              "</div>"
            ],
            "text/plain": [
              "       artist.inverted  ... x3rd.week\n",
              "0      Destiny's Child  ...      49.0\n",
              "1              Santana  ...       6.0\n",
              "2        Savage Garden  ...      43.0\n",
              "3              Madonna  ...      18.0\n",
              "4  Aguilera, Christina  ...      45.0\n",
              "\n",
              "[5 rows x 8 columns]"
            ]
          },
          "metadata": {
            "tags": []
          },
          "execution_count": 41
        }
      ]
    },
    {
      "cell_type": "markdown",
      "metadata": {
        "id": "y-E5ZUQW3T4X",
        "colab_type": "text"
      },
      "source": [
        "Create more consistent column names"
      ]
    },
    {
      "cell_type": "code",
      "metadata": {
        "id": "2NJfd_aB3TQg",
        "colab_type": "code",
        "colab": {}
      },
      "source": [
        "bshort.columns = [ 'artist', 'track', 'time', 'genre', 'date.entered', 'wk1', 'wk2', 'wk3']"
      ],
      "execution_count": 0,
      "outputs": []
    },
    {
      "cell_type": "code",
      "metadata": {
        "id": "mR8gt2fM3tQv",
        "colab_type": "code",
        "outputId": "962bde50-8811-4e33-c41d-3b43953efbe9",
        "colab": {
          "base_uri": "https://localhost:8080/",
          "height": 198
        }
      },
      "source": [
        "bshort.head()"
      ],
      "execution_count": 43,
      "outputs": [
        {
          "output_type": "execute_result",
          "data": {
            "text/html": [
              "<div>\n",
              "<style scoped>\n",
              "    .dataframe tbody tr th:only-of-type {\n",
              "        vertical-align: middle;\n",
              "    }\n",
              "\n",
              "    .dataframe tbody tr th {\n",
              "        vertical-align: top;\n",
              "    }\n",
              "\n",
              "    .dataframe thead th {\n",
              "        text-align: right;\n",
              "    }\n",
              "</style>\n",
              "<table border=\"1\" class=\"dataframe\">\n",
              "  <thead>\n",
              "    <tr style=\"text-align: right;\">\n",
              "      <th></th>\n",
              "      <th>artist</th>\n",
              "      <th>track</th>\n",
              "      <th>time</th>\n",
              "      <th>genre</th>\n",
              "      <th>date.entered</th>\n",
              "      <th>wk1</th>\n",
              "      <th>wk2</th>\n",
              "      <th>wk3</th>\n",
              "    </tr>\n",
              "  </thead>\n",
              "  <tbody>\n",
              "    <tr>\n",
              "      <th>0</th>\n",
              "      <td>Destiny's Child</td>\n",
              "      <td>Independent Women Part I</td>\n",
              "      <td>3:38</td>\n",
              "      <td>Rock</td>\n",
              "      <td>2000-09-23</td>\n",
              "      <td>78</td>\n",
              "      <td>63.0</td>\n",
              "      <td>49.0</td>\n",
              "    </tr>\n",
              "    <tr>\n",
              "      <th>1</th>\n",
              "      <td>Santana</td>\n",
              "      <td>Maria, Maria</td>\n",
              "      <td>4:18</td>\n",
              "      <td>Rock</td>\n",
              "      <td>2000-02-12</td>\n",
              "      <td>15</td>\n",
              "      <td>8.0</td>\n",
              "      <td>6.0</td>\n",
              "    </tr>\n",
              "    <tr>\n",
              "      <th>2</th>\n",
              "      <td>Savage Garden</td>\n",
              "      <td>I Knew I Loved You</td>\n",
              "      <td>4:07</td>\n",
              "      <td>Rock</td>\n",
              "      <td>1999-10-23</td>\n",
              "      <td>71</td>\n",
              "      <td>48.0</td>\n",
              "      <td>43.0</td>\n",
              "    </tr>\n",
              "    <tr>\n",
              "      <th>3</th>\n",
              "      <td>Madonna</td>\n",
              "      <td>Music</td>\n",
              "      <td>3:45</td>\n",
              "      <td>Rock</td>\n",
              "      <td>2000-08-12</td>\n",
              "      <td>41</td>\n",
              "      <td>23.0</td>\n",
              "      <td>18.0</td>\n",
              "    </tr>\n",
              "    <tr>\n",
              "      <th>4</th>\n",
              "      <td>Aguilera, Christina</td>\n",
              "      <td>Come On Over Baby (All I Want Is You)</td>\n",
              "      <td>3:38</td>\n",
              "      <td>Rock</td>\n",
              "      <td>2000-08-05</td>\n",
              "      <td>57</td>\n",
              "      <td>47.0</td>\n",
              "      <td>45.0</td>\n",
              "    </tr>\n",
              "  </tbody>\n",
              "</table>\n",
              "</div>"
            ],
            "text/plain": [
              "                artist                                  track  ...   wk2   wk3\n",
              "0      Destiny's Child               Independent Women Part I  ...  63.0  49.0\n",
              "1              Santana                           Maria, Maria  ...   8.0   6.0\n",
              "2        Savage Garden                     I Knew I Loved You  ...  48.0  43.0\n",
              "3              Madonna                                  Music  ...  23.0  18.0\n",
              "4  Aguilera, Christina  Come On Over Baby (All I Want Is You)  ...  47.0  45.0\n",
              "\n",
              "[5 rows x 8 columns]"
            ]
          },
          "metadata": {
            "tags": []
          },
          "execution_count": 43
        }
      ]
    },
    {
      "cell_type": "markdown",
      "metadata": {
        "id": "-LFbYU6QRuWq",
        "colab_type": "text"
      },
      "source": [
        "Melt the week columns to week and rank; (kinda transpose)"
      ]
    },
    {
      "cell_type": "code",
      "metadata": {
        "id": "pIL6NZ7aR1Ch",
        "colab_type": "code",
        "outputId": "cdc9d21a-bf68-4f3f-f87b-ac45299f5f44",
        "colab": {
          "base_uri": "https://localhost:8080/",
          "height": 198
        }
      },
      "source": [
        "bmolten = bshort.melt(['artist', 'track', 'time', 'genre', 'date.entered'], ['wk1', 'wk2', 'wk3'], 'week', 'rank')\n",
        "bmolten.head()"
      ],
      "execution_count": 44,
      "outputs": [
        {
          "output_type": "execute_result",
          "data": {
            "text/html": [
              "<div>\n",
              "<style scoped>\n",
              "    .dataframe tbody tr th:only-of-type {\n",
              "        vertical-align: middle;\n",
              "    }\n",
              "\n",
              "    .dataframe tbody tr th {\n",
              "        vertical-align: top;\n",
              "    }\n",
              "\n",
              "    .dataframe thead th {\n",
              "        text-align: right;\n",
              "    }\n",
              "</style>\n",
              "<table border=\"1\" class=\"dataframe\">\n",
              "  <thead>\n",
              "    <tr style=\"text-align: right;\">\n",
              "      <th></th>\n",
              "      <th>artist</th>\n",
              "      <th>track</th>\n",
              "      <th>time</th>\n",
              "      <th>genre</th>\n",
              "      <th>date.entered</th>\n",
              "      <th>week</th>\n",
              "      <th>rank</th>\n",
              "    </tr>\n",
              "  </thead>\n",
              "  <tbody>\n",
              "    <tr>\n",
              "      <th>0</th>\n",
              "      <td>Destiny's Child</td>\n",
              "      <td>Independent Women Part I</td>\n",
              "      <td>3:38</td>\n",
              "      <td>Rock</td>\n",
              "      <td>2000-09-23</td>\n",
              "      <td>wk1</td>\n",
              "      <td>78.0</td>\n",
              "    </tr>\n",
              "    <tr>\n",
              "      <th>1</th>\n",
              "      <td>Santana</td>\n",
              "      <td>Maria, Maria</td>\n",
              "      <td>4:18</td>\n",
              "      <td>Rock</td>\n",
              "      <td>2000-02-12</td>\n",
              "      <td>wk1</td>\n",
              "      <td>15.0</td>\n",
              "    </tr>\n",
              "    <tr>\n",
              "      <th>2</th>\n",
              "      <td>Savage Garden</td>\n",
              "      <td>I Knew I Loved You</td>\n",
              "      <td>4:07</td>\n",
              "      <td>Rock</td>\n",
              "      <td>1999-10-23</td>\n",
              "      <td>wk1</td>\n",
              "      <td>71.0</td>\n",
              "    </tr>\n",
              "    <tr>\n",
              "      <th>3</th>\n",
              "      <td>Madonna</td>\n",
              "      <td>Music</td>\n",
              "      <td>3:45</td>\n",
              "      <td>Rock</td>\n",
              "      <td>2000-08-12</td>\n",
              "      <td>wk1</td>\n",
              "      <td>41.0</td>\n",
              "    </tr>\n",
              "    <tr>\n",
              "      <th>4</th>\n",
              "      <td>Aguilera, Christina</td>\n",
              "      <td>Come On Over Baby (All I Want Is You)</td>\n",
              "      <td>3:38</td>\n",
              "      <td>Rock</td>\n",
              "      <td>2000-08-05</td>\n",
              "      <td>wk1</td>\n",
              "      <td>57.0</td>\n",
              "    </tr>\n",
              "  </tbody>\n",
              "</table>\n",
              "</div>"
            ],
            "text/plain": [
              "                artist                                  track  ... week  rank\n",
              "0      Destiny's Child               Independent Women Part I  ...  wk1  78.0\n",
              "1              Santana                           Maria, Maria  ...  wk1  15.0\n",
              "2        Savage Garden                     I Knew I Loved You  ...  wk1  71.0\n",
              "3              Madonna                                  Music  ...  wk1  41.0\n",
              "4  Aguilera, Christina  Come On Over Baby (All I Want Is You)  ...  wk1  57.0\n",
              "\n",
              "[5 rows x 7 columns]"
            ]
          },
          "metadata": {
            "tags": []
          },
          "execution_count": 44
        }
      ]
    },
    {
      "cell_type": "code",
      "metadata": {
        "id": "NMmJQlydSaOI",
        "colab_type": "code",
        "outputId": "dce1a331-bfbf-4e27-9a8d-b64bcb647c59",
        "colab": {
          "base_uri": "https://localhost:8080/",
          "height": 138
        }
      },
      "source": [
        "bmolten.query(\"track == 'Liar'\")"
      ],
      "execution_count": 45,
      "outputs": [
        {
          "output_type": "execute_result",
          "data": {
            "text/html": [
              "<div>\n",
              "<style scoped>\n",
              "    .dataframe tbody tr th:only-of-type {\n",
              "        vertical-align: middle;\n",
              "    }\n",
              "\n",
              "    .dataframe tbody tr th {\n",
              "        vertical-align: top;\n",
              "    }\n",
              "\n",
              "    .dataframe thead th {\n",
              "        text-align: right;\n",
              "    }\n",
              "</style>\n",
              "<table border=\"1\" class=\"dataframe\">\n",
              "  <thead>\n",
              "    <tr style=\"text-align: right;\">\n",
              "      <th></th>\n",
              "      <th>artist</th>\n",
              "      <th>track</th>\n",
              "      <th>time</th>\n",
              "      <th>genre</th>\n",
              "      <th>date.entered</th>\n",
              "      <th>week</th>\n",
              "      <th>rank</th>\n",
              "    </tr>\n",
              "  </thead>\n",
              "  <tbody>\n",
              "    <tr>\n",
              "      <th>66</th>\n",
              "      <td>Profyle</td>\n",
              "      <td>Liar</td>\n",
              "      <td>3:57</td>\n",
              "      <td>R&amp;B</td>\n",
              "      <td>2000-09-16</td>\n",
              "      <td>wk1</td>\n",
              "      <td>52.0</td>\n",
              "    </tr>\n",
              "    <tr>\n",
              "      <th>383</th>\n",
              "      <td>Profyle</td>\n",
              "      <td>Liar</td>\n",
              "      <td>3:57</td>\n",
              "      <td>R&amp;B</td>\n",
              "      <td>2000-09-16</td>\n",
              "      <td>wk2</td>\n",
              "      <td>32.0</td>\n",
              "    </tr>\n",
              "    <tr>\n",
              "      <th>700</th>\n",
              "      <td>Profyle</td>\n",
              "      <td>Liar</td>\n",
              "      <td>3:57</td>\n",
              "      <td>R&amp;B</td>\n",
              "      <td>2000-09-16</td>\n",
              "      <td>wk3</td>\n",
              "      <td>25.0</td>\n",
              "    </tr>\n",
              "  </tbody>\n",
              "</table>\n",
              "</div>"
            ],
            "text/plain": [
              "      artist track  time genre date.entered week  rank\n",
              "66   Profyle  Liar  3:57   R&B   2000-09-16  wk1  52.0\n",
              "383  Profyle  Liar  3:57   R&B   2000-09-16  wk2  32.0\n",
              "700  Profyle  Liar  3:57   R&B   2000-09-16  wk3  25.0"
            ]
          },
          "metadata": {
            "tags": []
          },
          "execution_count": 45
        }
      ]
    },
    {
      "cell_type": "code",
      "metadata": {
        "id": "fl2ppLKMjlzR",
        "colab_type": "code",
        "outputId": "0cca4945-f701-4a6d-bd8a-1cdee7db9361",
        "colab": {
          "base_uri": "https://localhost:8080/",
          "height": 1145
        }
      },
      "source": [
        "bmolten['week'].apply(lambda s: int(s[2]))"
      ],
      "execution_count": 46,
      "outputs": [
        {
          "output_type": "execute_result",
          "data": {
            "text/plain": [
              "0      1\n",
              "1      1\n",
              "2      1\n",
              "3      1\n",
              "4      1\n",
              "5      1\n",
              "6      1\n",
              "7      1\n",
              "8      1\n",
              "9      1\n",
              "10     1\n",
              "11     1\n",
              "12     1\n",
              "13     1\n",
              "14     1\n",
              "15     1\n",
              "16     1\n",
              "17     1\n",
              "18     1\n",
              "19     1\n",
              "20     1\n",
              "21     1\n",
              "22     1\n",
              "23     1\n",
              "24     1\n",
              "25     1\n",
              "26     1\n",
              "27     1\n",
              "28     1\n",
              "29     1\n",
              "      ..\n",
              "921    3\n",
              "922    3\n",
              "923    3\n",
              "924    3\n",
              "925    3\n",
              "926    3\n",
              "927    3\n",
              "928    3\n",
              "929    3\n",
              "930    3\n",
              "931    3\n",
              "932    3\n",
              "933    3\n",
              "934    3\n",
              "935    3\n",
              "936    3\n",
              "937    3\n",
              "938    3\n",
              "939    3\n",
              "940    3\n",
              "941    3\n",
              "942    3\n",
              "943    3\n",
              "944    3\n",
              "945    3\n",
              "946    3\n",
              "947    3\n",
              "948    3\n",
              "949    3\n",
              "950    3\n",
              "Name: week, Length: 951, dtype: int64"
            ]
          },
          "metadata": {
            "tags": []
          },
          "execution_count": 46
        }
      ]
    },
    {
      "cell_type": "code",
      "metadata": {
        "id": "q0bhOxvpsePh",
        "colab_type": "code",
        "outputId": "0eb7e406-12a3-463a-83ac-0bff405b28d5",
        "colab": {
          "base_uri": "https://localhost:8080/",
          "height": 198
        }
      },
      "source": [
        "bmolten['week']= bmolten['week'].apply(lambda s: int(s[2]))\n",
        "bmolten.head()"
      ],
      "execution_count": 47,
      "outputs": [
        {
          "output_type": "execute_result",
          "data": {
            "text/html": [
              "<div>\n",
              "<style scoped>\n",
              "    .dataframe tbody tr th:only-of-type {\n",
              "        vertical-align: middle;\n",
              "    }\n",
              "\n",
              "    .dataframe tbody tr th {\n",
              "        vertical-align: top;\n",
              "    }\n",
              "\n",
              "    .dataframe thead th {\n",
              "        text-align: right;\n",
              "    }\n",
              "</style>\n",
              "<table border=\"1\" class=\"dataframe\">\n",
              "  <thead>\n",
              "    <tr style=\"text-align: right;\">\n",
              "      <th></th>\n",
              "      <th>artist</th>\n",
              "      <th>track</th>\n",
              "      <th>time</th>\n",
              "      <th>genre</th>\n",
              "      <th>date.entered</th>\n",
              "      <th>week</th>\n",
              "      <th>rank</th>\n",
              "    </tr>\n",
              "  </thead>\n",
              "  <tbody>\n",
              "    <tr>\n",
              "      <th>0</th>\n",
              "      <td>Destiny's Child</td>\n",
              "      <td>Independent Women Part I</td>\n",
              "      <td>3:38</td>\n",
              "      <td>Rock</td>\n",
              "      <td>2000-09-23</td>\n",
              "      <td>1</td>\n",
              "      <td>78.0</td>\n",
              "    </tr>\n",
              "    <tr>\n",
              "      <th>1</th>\n",
              "      <td>Santana</td>\n",
              "      <td>Maria, Maria</td>\n",
              "      <td>4:18</td>\n",
              "      <td>Rock</td>\n",
              "      <td>2000-02-12</td>\n",
              "      <td>1</td>\n",
              "      <td>15.0</td>\n",
              "    </tr>\n",
              "    <tr>\n",
              "      <th>2</th>\n",
              "      <td>Savage Garden</td>\n",
              "      <td>I Knew I Loved You</td>\n",
              "      <td>4:07</td>\n",
              "      <td>Rock</td>\n",
              "      <td>1999-10-23</td>\n",
              "      <td>1</td>\n",
              "      <td>71.0</td>\n",
              "    </tr>\n",
              "    <tr>\n",
              "      <th>3</th>\n",
              "      <td>Madonna</td>\n",
              "      <td>Music</td>\n",
              "      <td>3:45</td>\n",
              "      <td>Rock</td>\n",
              "      <td>2000-08-12</td>\n",
              "      <td>1</td>\n",
              "      <td>41.0</td>\n",
              "    </tr>\n",
              "    <tr>\n",
              "      <th>4</th>\n",
              "      <td>Aguilera, Christina</td>\n",
              "      <td>Come On Over Baby (All I Want Is You)</td>\n",
              "      <td>3:38</td>\n",
              "      <td>Rock</td>\n",
              "      <td>2000-08-05</td>\n",
              "      <td>1</td>\n",
              "      <td>57.0</td>\n",
              "    </tr>\n",
              "  </tbody>\n",
              "</table>\n",
              "</div>"
            ],
            "text/plain": [
              "                artist                                  track  ... week  rank\n",
              "0      Destiny's Child               Independent Women Part I  ...    1  78.0\n",
              "1              Santana                           Maria, Maria  ...    1  15.0\n",
              "2        Savage Garden                     I Knew I Loved You  ...    1  71.0\n",
              "3              Madonna                                  Music  ...    1  41.0\n",
              "4  Aguilera, Christina  Come On Over Baby (All I Want Is You)  ...    1  57.0\n",
              "\n",
              "[5 rows x 7 columns]"
            ]
          },
          "metadata": {
            "tags": []
          },
          "execution_count": 47
        }
      ]
    },
    {
      "cell_type": "code",
      "metadata": {
        "id": "Oyzgl0vvsuLQ",
        "colab_type": "code",
        "outputId": "36fe722f-945a-4acf-fee7-eab50968e89d",
        "colab": {
          "base_uri": "https://localhost:8080/",
          "height": 138
        }
      },
      "source": [
        "bmolten.query(\"track == 'Liar'\")"
      ],
      "execution_count": 48,
      "outputs": [
        {
          "output_type": "execute_result",
          "data": {
            "text/html": [
              "<div>\n",
              "<style scoped>\n",
              "    .dataframe tbody tr th:only-of-type {\n",
              "        vertical-align: middle;\n",
              "    }\n",
              "\n",
              "    .dataframe tbody tr th {\n",
              "        vertical-align: top;\n",
              "    }\n",
              "\n",
              "    .dataframe thead th {\n",
              "        text-align: right;\n",
              "    }\n",
              "</style>\n",
              "<table border=\"1\" class=\"dataframe\">\n",
              "  <thead>\n",
              "    <tr style=\"text-align: right;\">\n",
              "      <th></th>\n",
              "      <th>artist</th>\n",
              "      <th>track</th>\n",
              "      <th>time</th>\n",
              "      <th>genre</th>\n",
              "      <th>date.entered</th>\n",
              "      <th>week</th>\n",
              "      <th>rank</th>\n",
              "    </tr>\n",
              "  </thead>\n",
              "  <tbody>\n",
              "    <tr>\n",
              "      <th>66</th>\n",
              "      <td>Profyle</td>\n",
              "      <td>Liar</td>\n",
              "      <td>3:57</td>\n",
              "      <td>R&amp;B</td>\n",
              "      <td>2000-09-16</td>\n",
              "      <td>1</td>\n",
              "      <td>52.0</td>\n",
              "    </tr>\n",
              "    <tr>\n",
              "      <th>383</th>\n",
              "      <td>Profyle</td>\n",
              "      <td>Liar</td>\n",
              "      <td>3:57</td>\n",
              "      <td>R&amp;B</td>\n",
              "      <td>2000-09-16</td>\n",
              "      <td>2</td>\n",
              "      <td>32.0</td>\n",
              "    </tr>\n",
              "    <tr>\n",
              "      <th>700</th>\n",
              "      <td>Profyle</td>\n",
              "      <td>Liar</td>\n",
              "      <td>3:57</td>\n",
              "      <td>R&amp;B</td>\n",
              "      <td>2000-09-16</td>\n",
              "      <td>3</td>\n",
              "      <td>25.0</td>\n",
              "    </tr>\n",
              "  </tbody>\n",
              "</table>\n",
              "</div>"
            ],
            "text/plain": [
              "      artist track  time genre date.entered  week  rank\n",
              "66   Profyle  Liar  3:57   R&B   2000-09-16     1  52.0\n",
              "383  Profyle  Liar  3:57   R&B   2000-09-16     2  32.0\n",
              "700  Profyle  Liar  3:57   R&B   2000-09-16     3  25.0"
            ]
          },
          "metadata": {
            "tags": []
          },
          "execution_count": 48
        }
      ]
    },
    {
      "cell_type": "code",
      "metadata": {
        "id": "4tIni7mqybno",
        "colab_type": "code",
        "outputId": "848dc87d-e651-4968-c14a-0f87ac05df2b",
        "colab": {
          "base_uri": "https://localhost:8080/",
          "height": 35
        }
      },
      "source": [
        "type(bmolten.loc[0,'date.entered'])"
      ],
      "execution_count": 49,
      "outputs": [
        {
          "output_type": "execute_result",
          "data": {
            "text/plain": [
              "str"
            ]
          },
          "metadata": {
            "tags": []
          },
          "execution_count": 49
        }
      ]
    },
    {
      "cell_type": "markdown",
      "metadata": {
        "id": "vPADKRBQynj8",
        "colab_type": "text"
      },
      "source": [
        "Translate dates to actual date_time objects"
      ]
    },
    {
      "cell_type": "code",
      "metadata": {
        "id": "MX930y_Pym0x",
        "colab_type": "code",
        "outputId": "ce68bf61-dad4-45ae-e007-f40e4a4d811e",
        "colab": {
          "base_uri": "https://localhost:8080/",
          "height": 35
        }
      },
      "source": [
        "date_entered = pd.to_datetime(bmolten['date.entered'])\n",
        "type(date_entered.loc[0])"
      ],
      "execution_count": 50,
      "outputs": [
        {
          "output_type": "execute_result",
          "data": {
            "text/plain": [
              "pandas._libs.tslibs.timestamps.Timestamp"
            ]
          },
          "metadata": {
            "tags": []
          },
          "execution_count": 50
        }
      ]
    },
    {
      "cell_type": "code",
      "metadata": {
        "id": "8C1mif6L1dPv",
        "colab_type": "code",
        "colab": {}
      },
      "source": [
        "bmolten['date.entered'] = pd.to_datetime(bmolten['date.entered'])"
      ],
      "execution_count": 0,
      "outputs": []
    },
    {
      "cell_type": "code",
      "metadata": {
        "id": "4oh5c2o11lY5",
        "colab_type": "code",
        "outputId": "49f80fca-3e97-4eb9-d8b4-6a03ac5244f0",
        "colab": {
          "base_uri": "https://localhost:8080/",
          "height": 198
        }
      },
      "source": [
        "bmolten.head()"
      ],
      "execution_count": 52,
      "outputs": [
        {
          "output_type": "execute_result",
          "data": {
            "text/html": [
              "<div>\n",
              "<style scoped>\n",
              "    .dataframe tbody tr th:only-of-type {\n",
              "        vertical-align: middle;\n",
              "    }\n",
              "\n",
              "    .dataframe tbody tr th {\n",
              "        vertical-align: top;\n",
              "    }\n",
              "\n",
              "    .dataframe thead th {\n",
              "        text-align: right;\n",
              "    }\n",
              "</style>\n",
              "<table border=\"1\" class=\"dataframe\">\n",
              "  <thead>\n",
              "    <tr style=\"text-align: right;\">\n",
              "      <th></th>\n",
              "      <th>artist</th>\n",
              "      <th>track</th>\n",
              "      <th>time</th>\n",
              "      <th>genre</th>\n",
              "      <th>date.entered</th>\n",
              "      <th>week</th>\n",
              "      <th>rank</th>\n",
              "    </tr>\n",
              "  </thead>\n",
              "  <tbody>\n",
              "    <tr>\n",
              "      <th>0</th>\n",
              "      <td>Destiny's Child</td>\n",
              "      <td>Independent Women Part I</td>\n",
              "      <td>3:38</td>\n",
              "      <td>Rock</td>\n",
              "      <td>2000-09-23</td>\n",
              "      <td>1</td>\n",
              "      <td>78.0</td>\n",
              "    </tr>\n",
              "    <tr>\n",
              "      <th>1</th>\n",
              "      <td>Santana</td>\n",
              "      <td>Maria, Maria</td>\n",
              "      <td>4:18</td>\n",
              "      <td>Rock</td>\n",
              "      <td>2000-02-12</td>\n",
              "      <td>1</td>\n",
              "      <td>15.0</td>\n",
              "    </tr>\n",
              "    <tr>\n",
              "      <th>2</th>\n",
              "      <td>Savage Garden</td>\n",
              "      <td>I Knew I Loved You</td>\n",
              "      <td>4:07</td>\n",
              "      <td>Rock</td>\n",
              "      <td>1999-10-23</td>\n",
              "      <td>1</td>\n",
              "      <td>71.0</td>\n",
              "    </tr>\n",
              "    <tr>\n",
              "      <th>3</th>\n",
              "      <td>Madonna</td>\n",
              "      <td>Music</td>\n",
              "      <td>3:45</td>\n",
              "      <td>Rock</td>\n",
              "      <td>2000-08-12</td>\n",
              "      <td>1</td>\n",
              "      <td>41.0</td>\n",
              "    </tr>\n",
              "    <tr>\n",
              "      <th>4</th>\n",
              "      <td>Aguilera, Christina</td>\n",
              "      <td>Come On Over Baby (All I Want Is You)</td>\n",
              "      <td>3:38</td>\n",
              "      <td>Rock</td>\n",
              "      <td>2000-08-05</td>\n",
              "      <td>1</td>\n",
              "      <td>57.0</td>\n",
              "    </tr>\n",
              "  </tbody>\n",
              "</table>\n",
              "</div>"
            ],
            "text/plain": [
              "                artist                                  track  ... week  rank\n",
              "0      Destiny's Child               Independent Women Part I  ...    1  78.0\n",
              "1              Santana                           Maria, Maria  ...    1  15.0\n",
              "2        Savage Garden                     I Knew I Loved You  ...    1  71.0\n",
              "3              Madonna                                  Music  ...    1  41.0\n",
              "4  Aguilera, Christina  Come On Over Baby (All I Want Is You)  ...    1  57.0\n",
              "\n",
              "[5 rows x 7 columns]"
            ]
          },
          "metadata": {
            "tags": []
          },
          "execution_count": 52
        }
      ]
    },
    {
      "cell_type": "code",
      "metadata": {
        "id": "X0n1hI3j1rFJ",
        "colab_type": "code",
        "outputId": "fcbaa027-03fa-428a-cab6-226e4131920c",
        "colab": {
          "base_uri": "https://localhost:8080/",
          "height": 35
        }
      },
      "source": [
        "type(bmolten.loc[0,'date.entered'])"
      ],
      "execution_count": 25,
      "outputs": [
        {
          "output_type": "execute_result",
          "data": {
            "text/plain": [
              "pandas._libs.tslibs.timestamps.Timestamp"
            ]
          },
          "metadata": {
            "tags": []
          },
          "execution_count": 25
        }
      ]
    },
    {
      "cell_type": "code",
      "metadata": {
        "id": "m-hJthoX6U41",
        "colab_type": "code",
        "colab": {
          "base_uri": "https://localhost:8080/",
          "height": 138
        },
        "outputId": "ef7ca52e-c82b-4e07-eb96-1d6b5681d5d3"
      },
      "source": [
        "bmolten.query(\"track == 'Liar'\")"
      ],
      "execution_count": 53,
      "outputs": [
        {
          "output_type": "execute_result",
          "data": {
            "text/html": [
              "<div>\n",
              "<style scoped>\n",
              "    .dataframe tbody tr th:only-of-type {\n",
              "        vertical-align: middle;\n",
              "    }\n",
              "\n",
              "    .dataframe tbody tr th {\n",
              "        vertical-align: top;\n",
              "    }\n",
              "\n",
              "    .dataframe thead th {\n",
              "        text-align: right;\n",
              "    }\n",
              "</style>\n",
              "<table border=\"1\" class=\"dataframe\">\n",
              "  <thead>\n",
              "    <tr style=\"text-align: right;\">\n",
              "      <th></th>\n",
              "      <th>artist</th>\n",
              "      <th>track</th>\n",
              "      <th>time</th>\n",
              "      <th>genre</th>\n",
              "      <th>date.entered</th>\n",
              "      <th>week</th>\n",
              "      <th>rank</th>\n",
              "    </tr>\n",
              "  </thead>\n",
              "  <tbody>\n",
              "    <tr>\n",
              "      <th>66</th>\n",
              "      <td>Profyle</td>\n",
              "      <td>Liar</td>\n",
              "      <td>3:57</td>\n",
              "      <td>R&amp;B</td>\n",
              "      <td>2000-09-16</td>\n",
              "      <td>1</td>\n",
              "      <td>52.0</td>\n",
              "    </tr>\n",
              "    <tr>\n",
              "      <th>383</th>\n",
              "      <td>Profyle</td>\n",
              "      <td>Liar</td>\n",
              "      <td>3:57</td>\n",
              "      <td>R&amp;B</td>\n",
              "      <td>2000-09-16</td>\n",
              "      <td>2</td>\n",
              "      <td>32.0</td>\n",
              "    </tr>\n",
              "    <tr>\n",
              "      <th>700</th>\n",
              "      <td>Profyle</td>\n",
              "      <td>Liar</td>\n",
              "      <td>3:57</td>\n",
              "      <td>R&amp;B</td>\n",
              "      <td>2000-09-16</td>\n",
              "      <td>3</td>\n",
              "      <td>25.0</td>\n",
              "    </tr>\n",
              "  </tbody>\n",
              "</table>\n",
              "</div>"
            ],
            "text/plain": [
              "      artist track  time genre date.entered  week  rank\n",
              "66   Profyle  Liar  3:57   R&B   2000-09-16     1  52.0\n",
              "383  Profyle  Liar  3:57   R&B   2000-09-16     2  32.0\n",
              "700  Profyle  Liar  3:57   R&B   2000-09-16     3  25.0"
            ]
          },
          "metadata": {
            "tags": []
          },
          "execution_count": 53
        }
      ]
    },
    {
      "cell_type": "markdown",
      "metadata": {
        "id": "Tihalkud4agR",
        "colab_type": "text"
      },
      "source": [
        "Transform week wise rank to rank on a specific date in that week."
      ]
    },
    {
      "cell_type": "code",
      "metadata": {
        "id": "IALoHr3S4Yfh",
        "colab_type": "code",
        "outputId": "55989c24-9dae-4675-8f4b-bef08b107140",
        "colab": {
          "base_uri": "https://localhost:8080/",
          "height": 126
        }
      },
      "source": [
        "rank_on_date = bmolten['date.entered'] + pd.Timedelta('7 days') * ( bmolten['week'] - 1 )\n",
        "rank_on_date.head()"
      ],
      "execution_count": 54,
      "outputs": [
        {
          "output_type": "execute_result",
          "data": {
            "text/plain": [
              "0   2000-09-23\n",
              "1   2000-02-12\n",
              "2   1999-10-23\n",
              "3   2000-08-12\n",
              "4   2000-08-05\n",
              "dtype: datetime64[ns]"
            ]
          },
          "metadata": {
            "tags": []
          },
          "execution_count": 54
        }
      ]
    },
    {
      "cell_type": "code",
      "metadata": {
        "id": "7LOiqZti5LQw",
        "colab_type": "code",
        "outputId": "581b578a-534a-425e-8e1f-5109710d1425",
        "colab": {
          "base_uri": "https://localhost:8080/",
          "height": 35
        }
      },
      "source": [
        "type(rank_on_date.loc[0])"
      ],
      "execution_count": 55,
      "outputs": [
        {
          "output_type": "execute_result",
          "data": {
            "text/plain": [
              "pandas._libs.tslibs.timestamps.Timestamp"
            ]
          },
          "metadata": {
            "tags": []
          },
          "execution_count": 55
        }
      ]
    },
    {
      "cell_type": "code",
      "metadata": {
        "id": "IW1OJdC55Sov",
        "colab_type": "code",
        "outputId": "13bb05a2-cdd5-47ff-910d-6f88491c1532",
        "colab": {
          "base_uri": "https://localhost:8080/",
          "height": 198
        }
      },
      "source": [
        "bmolten['date'] = bmolten['date.entered'] + pd.Timedelta('7 days') * ( bmolten['week'] - 1 )\n",
        "bmolten.head()"
      ],
      "execution_count": 56,
      "outputs": [
        {
          "output_type": "execute_result",
          "data": {
            "text/html": [
              "<div>\n",
              "<style scoped>\n",
              "    .dataframe tbody tr th:only-of-type {\n",
              "        vertical-align: middle;\n",
              "    }\n",
              "\n",
              "    .dataframe tbody tr th {\n",
              "        vertical-align: top;\n",
              "    }\n",
              "\n",
              "    .dataframe thead th {\n",
              "        text-align: right;\n",
              "    }\n",
              "</style>\n",
              "<table border=\"1\" class=\"dataframe\">\n",
              "  <thead>\n",
              "    <tr style=\"text-align: right;\">\n",
              "      <th></th>\n",
              "      <th>artist</th>\n",
              "      <th>track</th>\n",
              "      <th>time</th>\n",
              "      <th>genre</th>\n",
              "      <th>date.entered</th>\n",
              "      <th>week</th>\n",
              "      <th>rank</th>\n",
              "      <th>date</th>\n",
              "    </tr>\n",
              "  </thead>\n",
              "  <tbody>\n",
              "    <tr>\n",
              "      <th>0</th>\n",
              "      <td>Destiny's Child</td>\n",
              "      <td>Independent Women Part I</td>\n",
              "      <td>3:38</td>\n",
              "      <td>Rock</td>\n",
              "      <td>2000-09-23</td>\n",
              "      <td>1</td>\n",
              "      <td>78.0</td>\n",
              "      <td>2000-09-23</td>\n",
              "    </tr>\n",
              "    <tr>\n",
              "      <th>1</th>\n",
              "      <td>Santana</td>\n",
              "      <td>Maria, Maria</td>\n",
              "      <td>4:18</td>\n",
              "      <td>Rock</td>\n",
              "      <td>2000-02-12</td>\n",
              "      <td>1</td>\n",
              "      <td>15.0</td>\n",
              "      <td>2000-02-12</td>\n",
              "    </tr>\n",
              "    <tr>\n",
              "      <th>2</th>\n",
              "      <td>Savage Garden</td>\n",
              "      <td>I Knew I Loved You</td>\n",
              "      <td>4:07</td>\n",
              "      <td>Rock</td>\n",
              "      <td>1999-10-23</td>\n",
              "      <td>1</td>\n",
              "      <td>71.0</td>\n",
              "      <td>1999-10-23</td>\n",
              "    </tr>\n",
              "    <tr>\n",
              "      <th>3</th>\n",
              "      <td>Madonna</td>\n",
              "      <td>Music</td>\n",
              "      <td>3:45</td>\n",
              "      <td>Rock</td>\n",
              "      <td>2000-08-12</td>\n",
              "      <td>1</td>\n",
              "      <td>41.0</td>\n",
              "      <td>2000-08-12</td>\n",
              "    </tr>\n",
              "    <tr>\n",
              "      <th>4</th>\n",
              "      <td>Aguilera, Christina</td>\n",
              "      <td>Come On Over Baby (All I Want Is You)</td>\n",
              "      <td>3:38</td>\n",
              "      <td>Rock</td>\n",
              "      <td>2000-08-05</td>\n",
              "      <td>1</td>\n",
              "      <td>57.0</td>\n",
              "      <td>2000-08-05</td>\n",
              "    </tr>\n",
              "  </tbody>\n",
              "</table>\n",
              "</div>"
            ],
            "text/plain": [
              "                artist                                  track  ...  rank       date\n",
              "0      Destiny's Child               Independent Women Part I  ...  78.0 2000-09-23\n",
              "1              Santana                           Maria, Maria  ...  15.0 2000-02-12\n",
              "2        Savage Garden                     I Knew I Loved You  ...  71.0 1999-10-23\n",
              "3              Madonna                                  Music  ...  41.0 2000-08-12\n",
              "4  Aguilera, Christina  Come On Over Baby (All I Want Is You)  ...  57.0 2000-08-05\n",
              "\n",
              "[5 rows x 8 columns]"
            ]
          },
          "metadata": {
            "tags": []
          },
          "execution_count": 56
        }
      ]
    },
    {
      "cell_type": "markdown",
      "metadata": {
        "id": "5oIHMqXY5pOg",
        "colab_type": "text"
      },
      "source": [
        "Now drop the date.entered column"
      ]
    },
    {
      "cell_type": "code",
      "metadata": {
        "id": "ZxtCSfv65olN",
        "colab_type": "code",
        "outputId": "2c5e3966-2dff-4f23-e5cf-4c985a47d150",
        "colab": {
          "base_uri": "https://localhost:8080/",
          "height": 198
        }
      },
      "source": [
        "bmolten.drop( ['date.entered'], axis = 1, inplace = True )\n",
        "bmolten.head()"
      ],
      "execution_count": 57,
      "outputs": [
        {
          "output_type": "execute_result",
          "data": {
            "text/html": [
              "<div>\n",
              "<style scoped>\n",
              "    .dataframe tbody tr th:only-of-type {\n",
              "        vertical-align: middle;\n",
              "    }\n",
              "\n",
              "    .dataframe tbody tr th {\n",
              "        vertical-align: top;\n",
              "    }\n",
              "\n",
              "    .dataframe thead th {\n",
              "        text-align: right;\n",
              "    }\n",
              "</style>\n",
              "<table border=\"1\" class=\"dataframe\">\n",
              "  <thead>\n",
              "    <tr style=\"text-align: right;\">\n",
              "      <th></th>\n",
              "      <th>artist</th>\n",
              "      <th>track</th>\n",
              "      <th>time</th>\n",
              "      <th>genre</th>\n",
              "      <th>week</th>\n",
              "      <th>rank</th>\n",
              "      <th>date</th>\n",
              "    </tr>\n",
              "  </thead>\n",
              "  <tbody>\n",
              "    <tr>\n",
              "      <th>0</th>\n",
              "      <td>Destiny's Child</td>\n",
              "      <td>Independent Women Part I</td>\n",
              "      <td>3:38</td>\n",
              "      <td>Rock</td>\n",
              "      <td>1</td>\n",
              "      <td>78.0</td>\n",
              "      <td>2000-09-23</td>\n",
              "    </tr>\n",
              "    <tr>\n",
              "      <th>1</th>\n",
              "      <td>Santana</td>\n",
              "      <td>Maria, Maria</td>\n",
              "      <td>4:18</td>\n",
              "      <td>Rock</td>\n",
              "      <td>1</td>\n",
              "      <td>15.0</td>\n",
              "      <td>2000-02-12</td>\n",
              "    </tr>\n",
              "    <tr>\n",
              "      <th>2</th>\n",
              "      <td>Savage Garden</td>\n",
              "      <td>I Knew I Loved You</td>\n",
              "      <td>4:07</td>\n",
              "      <td>Rock</td>\n",
              "      <td>1</td>\n",
              "      <td>71.0</td>\n",
              "      <td>1999-10-23</td>\n",
              "    </tr>\n",
              "    <tr>\n",
              "      <th>3</th>\n",
              "      <td>Madonna</td>\n",
              "      <td>Music</td>\n",
              "      <td>3:45</td>\n",
              "      <td>Rock</td>\n",
              "      <td>1</td>\n",
              "      <td>41.0</td>\n",
              "      <td>2000-08-12</td>\n",
              "    </tr>\n",
              "    <tr>\n",
              "      <th>4</th>\n",
              "      <td>Aguilera, Christina</td>\n",
              "      <td>Come On Over Baby (All I Want Is You)</td>\n",
              "      <td>3:38</td>\n",
              "      <td>Rock</td>\n",
              "      <td>1</td>\n",
              "      <td>57.0</td>\n",
              "      <td>2000-08-05</td>\n",
              "    </tr>\n",
              "  </tbody>\n",
              "</table>\n",
              "</div>"
            ],
            "text/plain": [
              "                artist                                  track  ...  rank       date\n",
              "0      Destiny's Child               Independent Women Part I  ...  78.0 2000-09-23\n",
              "1              Santana                           Maria, Maria  ...  15.0 2000-02-12\n",
              "2        Savage Garden                     I Knew I Loved You  ...  71.0 1999-10-23\n",
              "3              Madonna                                  Music  ...  41.0 2000-08-12\n",
              "4  Aguilera, Christina  Come On Over Baby (All I Want Is You)  ...  57.0 2000-08-05\n",
              "\n",
              "[5 rows x 7 columns]"
            ]
          },
          "metadata": {
            "tags": []
          },
          "execution_count": 57
        }
      ]
    },
    {
      "cell_type": "code",
      "metadata": {
        "id": "t7dqRxYk6nd5",
        "colab_type": "code",
        "outputId": "e3b464c1-265a-4319-d31d-a1848c33c439",
        "colab": {
          "base_uri": "https://localhost:8080/",
          "height": 138
        }
      },
      "source": [
        "bmolten.query(\"track == 'Liar'\")"
      ],
      "execution_count": 59,
      "outputs": [
        {
          "output_type": "execute_result",
          "data": {
            "text/html": [
              "<div>\n",
              "<style scoped>\n",
              "    .dataframe tbody tr th:only-of-type {\n",
              "        vertical-align: middle;\n",
              "    }\n",
              "\n",
              "    .dataframe tbody tr th {\n",
              "        vertical-align: top;\n",
              "    }\n",
              "\n",
              "    .dataframe thead th {\n",
              "        text-align: right;\n",
              "    }\n",
              "</style>\n",
              "<table border=\"1\" class=\"dataframe\">\n",
              "  <thead>\n",
              "    <tr style=\"text-align: right;\">\n",
              "      <th></th>\n",
              "      <th>artist</th>\n",
              "      <th>track</th>\n",
              "      <th>time</th>\n",
              "      <th>genre</th>\n",
              "      <th>week</th>\n",
              "      <th>rank</th>\n",
              "      <th>date</th>\n",
              "    </tr>\n",
              "  </thead>\n",
              "  <tbody>\n",
              "    <tr>\n",
              "      <th>66</th>\n",
              "      <td>Profyle</td>\n",
              "      <td>Liar</td>\n",
              "      <td>3:57</td>\n",
              "      <td>R&amp;B</td>\n",
              "      <td>1</td>\n",
              "      <td>52.0</td>\n",
              "      <td>2000-09-16</td>\n",
              "    </tr>\n",
              "    <tr>\n",
              "      <th>383</th>\n",
              "      <td>Profyle</td>\n",
              "      <td>Liar</td>\n",
              "      <td>3:57</td>\n",
              "      <td>R&amp;B</td>\n",
              "      <td>2</td>\n",
              "      <td>32.0</td>\n",
              "      <td>2000-09-23</td>\n",
              "    </tr>\n",
              "    <tr>\n",
              "      <th>700</th>\n",
              "      <td>Profyle</td>\n",
              "      <td>Liar</td>\n",
              "      <td>3:57</td>\n",
              "      <td>R&amp;B</td>\n",
              "      <td>3</td>\n",
              "      <td>25.0</td>\n",
              "      <td>2000-09-30</td>\n",
              "    </tr>\n",
              "  </tbody>\n",
              "</table>\n",
              "</div>"
            ],
            "text/plain": [
              "      artist track  time genre  week  rank       date\n",
              "66   Profyle  Liar  3:57   R&B     1  52.0 2000-09-16\n",
              "383  Profyle  Liar  3:57   R&B     2  32.0 2000-09-23\n",
              "700  Profyle  Liar  3:57   R&B     3  25.0 2000-09-30"
            ]
          },
          "metadata": {
            "tags": []
          },
          "execution_count": 59
        }
      ]
    },
    {
      "cell_type": "code",
      "metadata": {
        "id": "if54eqMD9sCt",
        "colab_type": "code",
        "colab": {
          "base_uri": "https://localhost:8080/",
          "height": 289
        },
        "outputId": "0d4dd2be-286d-49c1-d2f8-87e184a57c48"
      },
      "source": [
        "bfinal = bmolten[['artist', 'track', 'time', 'week', 'rank', 'date']]\n",
        "bfinal.sort_values(['artist', 'track'], inplace = True)\n",
        "bfinal.head()"
      ],
      "execution_count": 61,
      "outputs": [
        {
          "output_type": "stream",
          "text": [
            "/usr/local/lib/python3.6/dist-packages/ipykernel_launcher.py:2: SettingWithCopyWarning: \n",
            "A value is trying to be set on a copy of a slice from a DataFrame\n",
            "\n",
            "See the caveats in the documentation: http://pandas.pydata.org/pandas-docs/stable/indexing.html#indexing-view-versus-copy\n",
            "  \n"
          ],
          "name": "stderr"
        },
        {
          "output_type": "execute_result",
          "data": {
            "text/html": [
              "<div>\n",
              "<style scoped>\n",
              "    .dataframe tbody tr th:only-of-type {\n",
              "        vertical-align: middle;\n",
              "    }\n",
              "\n",
              "    .dataframe tbody tr th {\n",
              "        vertical-align: top;\n",
              "    }\n",
              "\n",
              "    .dataframe thead th {\n",
              "        text-align: right;\n",
              "    }\n",
              "</style>\n",
              "<table border=\"1\" class=\"dataframe\">\n",
              "  <thead>\n",
              "    <tr style=\"text-align: right;\">\n",
              "      <th></th>\n",
              "      <th>artist</th>\n",
              "      <th>track</th>\n",
              "      <th>time</th>\n",
              "      <th>week</th>\n",
              "      <th>rank</th>\n",
              "      <th>date</th>\n",
              "    </tr>\n",
              "  </thead>\n",
              "  <tbody>\n",
              "    <tr>\n",
              "      <th>246</th>\n",
              "      <td>2 Pac</td>\n",
              "      <td>Baby Don't Cry (Keep Ya Head Up II)</td>\n",
              "      <td>4:22</td>\n",
              "      <td>1</td>\n",
              "      <td>87.0</td>\n",
              "      <td>2000-02-26</td>\n",
              "    </tr>\n",
              "    <tr>\n",
              "      <th>563</th>\n",
              "      <td>2 Pac</td>\n",
              "      <td>Baby Don't Cry (Keep Ya Head Up II)</td>\n",
              "      <td>4:22</td>\n",
              "      <td>2</td>\n",
              "      <td>82.0</td>\n",
              "      <td>2000-03-04</td>\n",
              "    </tr>\n",
              "    <tr>\n",
              "      <th>880</th>\n",
              "      <td>2 Pac</td>\n",
              "      <td>Baby Don't Cry (Keep Ya Head Up II)</td>\n",
              "      <td>4:22</td>\n",
              "      <td>3</td>\n",
              "      <td>72.0</td>\n",
              "      <td>2000-03-11</td>\n",
              "    </tr>\n",
              "    <tr>\n",
              "      <th>287</th>\n",
              "      <td>2Ge+her</td>\n",
              "      <td>The Hardest Part Of Breaking Up (Is Getting Ba...</td>\n",
              "      <td>3:15</td>\n",
              "      <td>1</td>\n",
              "      <td>91.0</td>\n",
              "      <td>2000-09-02</td>\n",
              "    </tr>\n",
              "    <tr>\n",
              "      <th>604</th>\n",
              "      <td>2Ge+her</td>\n",
              "      <td>The Hardest Part Of Breaking Up (Is Getting Ba...</td>\n",
              "      <td>3:15</td>\n",
              "      <td>2</td>\n",
              "      <td>87.0</td>\n",
              "      <td>2000-09-09</td>\n",
              "    </tr>\n",
              "  </tbody>\n",
              "</table>\n",
              "</div>"
            ],
            "text/plain": [
              "      artist  ...       date\n",
              "246    2 Pac  ... 2000-02-26\n",
              "563    2 Pac  ... 2000-03-04\n",
              "880    2 Pac  ... 2000-03-11\n",
              "287  2Ge+her  ... 2000-09-02\n",
              "604  2Ge+her  ... 2000-09-09\n",
              "\n",
              "[5 rows x 6 columns]"
            ]
          },
          "metadata": {
            "tags": []
          },
          "execution_count": 61
        }
      ]
    },
    {
      "cell_type": "markdown",
      "metadata": {
        "id": "rS1OwCWaDC0z",
        "colab_type": "text"
      },
      "source": [
        "Normalize"
      ]
    },
    {
      "cell_type": "code",
      "metadata": {
        "id": "303Q6dw2DGFI",
        "colab_type": "code",
        "colab": {
          "base_uri": "https://localhost:8080/",
          "height": 198
        },
        "outputId": "f79a570b-ff62-43ac-a2fa-b3e3e7c50dd9"
      },
      "source": [
        "tracks = bfinal[['artist', 'track', 'time']].drop_duplicates()\n",
        "tracks.head()"
      ],
      "execution_count": 62,
      "outputs": [
        {
          "output_type": "execute_result",
          "data": {
            "text/html": [
              "<div>\n",
              "<style scoped>\n",
              "    .dataframe tbody tr th:only-of-type {\n",
              "        vertical-align: middle;\n",
              "    }\n",
              "\n",
              "    .dataframe tbody tr th {\n",
              "        vertical-align: top;\n",
              "    }\n",
              "\n",
              "    .dataframe thead th {\n",
              "        text-align: right;\n",
              "    }\n",
              "</style>\n",
              "<table border=\"1\" class=\"dataframe\">\n",
              "  <thead>\n",
              "    <tr style=\"text-align: right;\">\n",
              "      <th></th>\n",
              "      <th>artist</th>\n",
              "      <th>track</th>\n",
              "      <th>time</th>\n",
              "    </tr>\n",
              "  </thead>\n",
              "  <tbody>\n",
              "    <tr>\n",
              "      <th>246</th>\n",
              "      <td>2 Pac</td>\n",
              "      <td>Baby Don't Cry (Keep Ya Head Up II)</td>\n",
              "      <td>4:22</td>\n",
              "    </tr>\n",
              "    <tr>\n",
              "      <th>287</th>\n",
              "      <td>2Ge+her</td>\n",
              "      <td>The Hardest Part Of Breaking Up (Is Getting Ba...</td>\n",
              "      <td>3:15</td>\n",
              "    </tr>\n",
              "    <tr>\n",
              "      <th>24</th>\n",
              "      <td>3 Doors Down</td>\n",
              "      <td>Kryptonite</td>\n",
              "      <td>3:53</td>\n",
              "    </tr>\n",
              "    <tr>\n",
              "      <th>193</th>\n",
              "      <td>3 Doors Down</td>\n",
              "      <td>Loser</td>\n",
              "      <td>4:24</td>\n",
              "    </tr>\n",
              "    <tr>\n",
              "      <th>69</th>\n",
              "      <td>504 Boyz</td>\n",
              "      <td>Wobble Wobble</td>\n",
              "      <td>3:35</td>\n",
              "    </tr>\n",
              "  </tbody>\n",
              "</table>\n",
              "</div>"
            ],
            "text/plain": [
              "           artist                                              track  time\n",
              "246         2 Pac                Baby Don't Cry (Keep Ya Head Up II)  4:22\n",
              "287       2Ge+her  The Hardest Part Of Breaking Up (Is Getting Ba...  3:15\n",
              "24   3 Doors Down                                         Kryptonite  3:53\n",
              "193  3 Doors Down                                              Loser  4:24\n",
              "69       504 Boyz                                      Wobble Wobble  3:35"
            ]
          },
          "metadata": {
            "tags": []
          },
          "execution_count": 62
        }
      ]
    },
    {
      "cell_type": "code",
      "metadata": {
        "id": "uryLV6BBIbSa",
        "colab_type": "code",
        "colab": {}
      },
      "source": [
        "tracks.index.name = 'id'"
      ],
      "execution_count": 0,
      "outputs": []
    },
    {
      "cell_type": "code",
      "metadata": {
        "id": "aJ9D8VPmIvdt",
        "colab_type": "code",
        "colab": {}
      },
      "source": [
        "tracksid = tracks.reset_index()"
      ],
      "execution_count": 0,
      "outputs": []
    },
    {
      "cell_type": "code",
      "metadata": {
        "id": "MnvxZjFDI3i_",
        "colab_type": "code",
        "colab": {
          "base_uri": "https://localhost:8080/",
          "height": 228
        },
        "outputId": "a2b4e371-dd6d-45ab-b255-4aa8b2db8c55"
      },
      "source": [
        "tracks.head()"
      ],
      "execution_count": 65,
      "outputs": [
        {
          "output_type": "execute_result",
          "data": {
            "text/html": [
              "<div>\n",
              "<style scoped>\n",
              "    .dataframe tbody tr th:only-of-type {\n",
              "        vertical-align: middle;\n",
              "    }\n",
              "\n",
              "    .dataframe tbody tr th {\n",
              "        vertical-align: top;\n",
              "    }\n",
              "\n",
              "    .dataframe thead th {\n",
              "        text-align: right;\n",
              "    }\n",
              "</style>\n",
              "<table border=\"1\" class=\"dataframe\">\n",
              "  <thead>\n",
              "    <tr style=\"text-align: right;\">\n",
              "      <th></th>\n",
              "      <th>artist</th>\n",
              "      <th>track</th>\n",
              "      <th>time</th>\n",
              "    </tr>\n",
              "    <tr>\n",
              "      <th>id</th>\n",
              "      <th></th>\n",
              "      <th></th>\n",
              "      <th></th>\n",
              "    </tr>\n",
              "  </thead>\n",
              "  <tbody>\n",
              "    <tr>\n",
              "      <th>246</th>\n",
              "      <td>2 Pac</td>\n",
              "      <td>Baby Don't Cry (Keep Ya Head Up II)</td>\n",
              "      <td>4:22</td>\n",
              "    </tr>\n",
              "    <tr>\n",
              "      <th>287</th>\n",
              "      <td>2Ge+her</td>\n",
              "      <td>The Hardest Part Of Breaking Up (Is Getting Ba...</td>\n",
              "      <td>3:15</td>\n",
              "    </tr>\n",
              "    <tr>\n",
              "      <th>24</th>\n",
              "      <td>3 Doors Down</td>\n",
              "      <td>Kryptonite</td>\n",
              "      <td>3:53</td>\n",
              "    </tr>\n",
              "    <tr>\n",
              "      <th>193</th>\n",
              "      <td>3 Doors Down</td>\n",
              "      <td>Loser</td>\n",
              "      <td>4:24</td>\n",
              "    </tr>\n",
              "    <tr>\n",
              "      <th>69</th>\n",
              "      <td>504 Boyz</td>\n",
              "      <td>Wobble Wobble</td>\n",
              "      <td>3:35</td>\n",
              "    </tr>\n",
              "  </tbody>\n",
              "</table>\n",
              "</div>"
            ],
            "text/plain": [
              "           artist                                              track  time\n",
              "id                                                                        \n",
              "246         2 Pac                Baby Don't Cry (Keep Ya Head Up II)  4:22\n",
              "287       2Ge+her  The Hardest Part Of Breaking Up (Is Getting Ba...  3:15\n",
              "24   3 Doors Down                                         Kryptonite  3:53\n",
              "193  3 Doors Down                                              Loser  4:24\n",
              "69       504 Boyz                                      Wobble Wobble  3:35"
            ]
          },
          "metadata": {
            "tags": []
          },
          "execution_count": 65
        }
      ]
    },
    {
      "cell_type": "code",
      "metadata": {
        "id": "Qho9otpgMQHU",
        "colab_type": "code",
        "colab": {
          "base_uri": "https://localhost:8080/",
          "height": 198
        },
        "outputId": "0e5a8d0c-c725-41de-d00e-2b1bad4401c8"
      },
      "source": [
        "tracksid.head()"
      ],
      "execution_count": 72,
      "outputs": [
        {
          "output_type": "execute_result",
          "data": {
            "text/html": [
              "<div>\n",
              "<style scoped>\n",
              "    .dataframe tbody tr th:only-of-type {\n",
              "        vertical-align: middle;\n",
              "    }\n",
              "\n",
              "    .dataframe tbody tr th {\n",
              "        vertical-align: top;\n",
              "    }\n",
              "\n",
              "    .dataframe thead th {\n",
              "        text-align: right;\n",
              "    }\n",
              "</style>\n",
              "<table border=\"1\" class=\"dataframe\">\n",
              "  <thead>\n",
              "    <tr style=\"text-align: right;\">\n",
              "      <th></th>\n",
              "      <th>id</th>\n",
              "      <th>artist</th>\n",
              "      <th>track</th>\n",
              "      <th>time</th>\n",
              "    </tr>\n",
              "  </thead>\n",
              "  <tbody>\n",
              "    <tr>\n",
              "      <th>0</th>\n",
              "      <td>246</td>\n",
              "      <td>2 Pac</td>\n",
              "      <td>Baby Don't Cry (Keep Ya Head Up II)</td>\n",
              "      <td>4:22</td>\n",
              "    </tr>\n",
              "    <tr>\n",
              "      <th>1</th>\n",
              "      <td>287</td>\n",
              "      <td>2Ge+her</td>\n",
              "      <td>The Hardest Part Of Breaking Up (Is Getting Ba...</td>\n",
              "      <td>3:15</td>\n",
              "    </tr>\n",
              "    <tr>\n",
              "      <th>2</th>\n",
              "      <td>24</td>\n",
              "      <td>3 Doors Down</td>\n",
              "      <td>Kryptonite</td>\n",
              "      <td>3:53</td>\n",
              "    </tr>\n",
              "    <tr>\n",
              "      <th>3</th>\n",
              "      <td>193</td>\n",
              "      <td>3 Doors Down</td>\n",
              "      <td>Loser</td>\n",
              "      <td>4:24</td>\n",
              "    </tr>\n",
              "    <tr>\n",
              "      <th>4</th>\n",
              "      <td>69</td>\n",
              "      <td>504 Boyz</td>\n",
              "      <td>Wobble Wobble</td>\n",
              "      <td>3:35</td>\n",
              "    </tr>\n",
              "  </tbody>\n",
              "</table>\n",
              "</div>"
            ],
            "text/plain": [
              "    id        artist                                              track  time\n",
              "0  246         2 Pac                Baby Don't Cry (Keep Ya Head Up II)  4:22\n",
              "1  287       2Ge+her  The Hardest Part Of Breaking Up (Is Getting Ba...  3:15\n",
              "2   24  3 Doors Down                                         Kryptonite  3:53\n",
              "3  193  3 Doors Down                                              Loser  4:24\n",
              "4   69      504 Boyz                                      Wobble Wobble  3:35"
            ]
          },
          "metadata": {
            "tags": []
          },
          "execution_count": 72
        }
      ]
    },
    {
      "cell_type": "code",
      "metadata": {
        "id": "NhgGmLxhLwPx",
        "colab_type": "code",
        "colab": {
          "base_uri": "https://localhost:8080/",
          "height": 35
        },
        "outputId": "f1d260de-6257-4352-968a-4fa6ddabf534"
      },
      "source": [
        "len(tracks)"
      ],
      "execution_count": 66,
      "outputs": [
        {
          "output_type": "execute_result",
          "data": {
            "text/plain": [
              "317"
            ]
          },
          "metadata": {
            "tags": []
          },
          "execution_count": 66
        }
      ]
    },
    {
      "cell_type": "code",
      "metadata": {
        "id": "8LwBuddwL18Z",
        "colab_type": "code",
        "colab": {
          "base_uri": "https://localhost:8080/",
          "height": 35
        },
        "outputId": "9515c361-939e-4e44-aded-31b6db162638"
      },
      "source": [
        "len(bfinal) "
      ],
      "execution_count": 70,
      "outputs": [
        {
          "output_type": "execute_result",
          "data": {
            "text/plain": [
              "951"
            ]
          },
          "metadata": {
            "tags": []
          },
          "execution_count": 70
        }
      ]
    },
    {
      "cell_type": "code",
      "metadata": {
        "id": "EDiVY3rWL8xK",
        "colab_type": "code",
        "colab": {
          "base_uri": "https://localhost:8080/",
          "height": 35
        },
        "outputId": "441cbe1b-63fe-45d5-f7c9-cf8827e9a345"
      },
      "source": [
        "len(bfinal)  / 3"
      ],
      "execution_count": 71,
      "outputs": [
        {
          "output_type": "execute_result",
          "data": {
            "text/plain": [
              "317.0"
            ]
          },
          "metadata": {
            "tags": []
          },
          "execution_count": 71
        }
      ]
    },
    {
      "cell_type": "code",
      "metadata": {
        "id": "EC3dtkLmL_ix",
        "colab_type": "code",
        "colab": {
          "base_uri": "https://localhost:8080/",
          "height": 198
        },
        "outputId": "627f3916-ce89-471f-d848-8d6034c372b8"
      },
      "source": [
        "pd.merge( tracksid, bfinal, on = ['artist', 'track'] ).head()"
      ],
      "execution_count": 73,
      "outputs": [
        {
          "output_type": "execute_result",
          "data": {
            "text/html": [
              "<div>\n",
              "<style scoped>\n",
              "    .dataframe tbody tr th:only-of-type {\n",
              "        vertical-align: middle;\n",
              "    }\n",
              "\n",
              "    .dataframe tbody tr th {\n",
              "        vertical-align: top;\n",
              "    }\n",
              "\n",
              "    .dataframe thead th {\n",
              "        text-align: right;\n",
              "    }\n",
              "</style>\n",
              "<table border=\"1\" class=\"dataframe\">\n",
              "  <thead>\n",
              "    <tr style=\"text-align: right;\">\n",
              "      <th></th>\n",
              "      <th>id</th>\n",
              "      <th>artist</th>\n",
              "      <th>track</th>\n",
              "      <th>time_x</th>\n",
              "      <th>time_y</th>\n",
              "      <th>week</th>\n",
              "      <th>rank</th>\n",
              "      <th>date</th>\n",
              "    </tr>\n",
              "  </thead>\n",
              "  <tbody>\n",
              "    <tr>\n",
              "      <th>0</th>\n",
              "      <td>246</td>\n",
              "      <td>2 Pac</td>\n",
              "      <td>Baby Don't Cry (Keep Ya Head Up II)</td>\n",
              "      <td>4:22</td>\n",
              "      <td>4:22</td>\n",
              "      <td>1</td>\n",
              "      <td>87.0</td>\n",
              "      <td>2000-02-26</td>\n",
              "    </tr>\n",
              "    <tr>\n",
              "      <th>1</th>\n",
              "      <td>246</td>\n",
              "      <td>2 Pac</td>\n",
              "      <td>Baby Don't Cry (Keep Ya Head Up II)</td>\n",
              "      <td>4:22</td>\n",
              "      <td>4:22</td>\n",
              "      <td>2</td>\n",
              "      <td>82.0</td>\n",
              "      <td>2000-03-04</td>\n",
              "    </tr>\n",
              "    <tr>\n",
              "      <th>2</th>\n",
              "      <td>246</td>\n",
              "      <td>2 Pac</td>\n",
              "      <td>Baby Don't Cry (Keep Ya Head Up II)</td>\n",
              "      <td>4:22</td>\n",
              "      <td>4:22</td>\n",
              "      <td>3</td>\n",
              "      <td>72.0</td>\n",
              "      <td>2000-03-11</td>\n",
              "    </tr>\n",
              "    <tr>\n",
              "      <th>3</th>\n",
              "      <td>287</td>\n",
              "      <td>2Ge+her</td>\n",
              "      <td>The Hardest Part Of Breaking Up (Is Getting Ba...</td>\n",
              "      <td>3:15</td>\n",
              "      <td>3:15</td>\n",
              "      <td>1</td>\n",
              "      <td>91.0</td>\n",
              "      <td>2000-09-02</td>\n",
              "    </tr>\n",
              "    <tr>\n",
              "      <th>4</th>\n",
              "      <td>287</td>\n",
              "      <td>2Ge+her</td>\n",
              "      <td>The Hardest Part Of Breaking Up (Is Getting Ba...</td>\n",
              "      <td>3:15</td>\n",
              "      <td>3:15</td>\n",
              "      <td>2</td>\n",
              "      <td>87.0</td>\n",
              "      <td>2000-09-09</td>\n",
              "    </tr>\n",
              "  </tbody>\n",
              "</table>\n",
              "</div>"
            ],
            "text/plain": [
              "    id   artist  ...  rank       date\n",
              "0  246    2 Pac  ...  87.0 2000-02-26\n",
              "1  246    2 Pac  ...  82.0 2000-03-04\n",
              "2  246    2 Pac  ...  72.0 2000-03-11\n",
              "3  287  2Ge+her  ...  91.0 2000-09-02\n",
              "4  287  2Ge+her  ...  87.0 2000-09-09\n",
              "\n",
              "[5 rows x 8 columns]"
            ]
          },
          "metadata": {
            "tags": []
          },
          "execution_count": 73
        }
      ]
    },
    {
      "cell_type": "markdown",
      "metadata": {
        "id": "0vXsbaL3NHwr",
        "colab_type": "text"
      },
      "source": [
        "Remove duplicate time, with adding it to merge"
      ]
    },
    {
      "cell_type": "code",
      "metadata": {
        "id": "DzKoswTNNLfX",
        "colab_type": "code",
        "colab": {
          "base_uri": "https://localhost:8080/",
          "height": 198
        },
        "outputId": "1a58bc92-e2ab-4773-e3e3-bad97ede2f68"
      },
      "source": [
        "pd.merge( tracksid, bfinal, on = ['artist', 'track', 'time'] ).head()"
      ],
      "execution_count": 74,
      "outputs": [
        {
          "output_type": "execute_result",
          "data": {
            "text/html": [
              "<div>\n",
              "<style scoped>\n",
              "    .dataframe tbody tr th:only-of-type {\n",
              "        vertical-align: middle;\n",
              "    }\n",
              "\n",
              "    .dataframe tbody tr th {\n",
              "        vertical-align: top;\n",
              "    }\n",
              "\n",
              "    .dataframe thead th {\n",
              "        text-align: right;\n",
              "    }\n",
              "</style>\n",
              "<table border=\"1\" class=\"dataframe\">\n",
              "  <thead>\n",
              "    <tr style=\"text-align: right;\">\n",
              "      <th></th>\n",
              "      <th>id</th>\n",
              "      <th>artist</th>\n",
              "      <th>track</th>\n",
              "      <th>time</th>\n",
              "      <th>week</th>\n",
              "      <th>rank</th>\n",
              "      <th>date</th>\n",
              "    </tr>\n",
              "  </thead>\n",
              "  <tbody>\n",
              "    <tr>\n",
              "      <th>0</th>\n",
              "      <td>246</td>\n",
              "      <td>2 Pac</td>\n",
              "      <td>Baby Don't Cry (Keep Ya Head Up II)</td>\n",
              "      <td>4:22</td>\n",
              "      <td>1</td>\n",
              "      <td>87.0</td>\n",
              "      <td>2000-02-26</td>\n",
              "    </tr>\n",
              "    <tr>\n",
              "      <th>1</th>\n",
              "      <td>246</td>\n",
              "      <td>2 Pac</td>\n",
              "      <td>Baby Don't Cry (Keep Ya Head Up II)</td>\n",
              "      <td>4:22</td>\n",
              "      <td>2</td>\n",
              "      <td>82.0</td>\n",
              "      <td>2000-03-04</td>\n",
              "    </tr>\n",
              "    <tr>\n",
              "      <th>2</th>\n",
              "      <td>246</td>\n",
              "      <td>2 Pac</td>\n",
              "      <td>Baby Don't Cry (Keep Ya Head Up II)</td>\n",
              "      <td>4:22</td>\n",
              "      <td>3</td>\n",
              "      <td>72.0</td>\n",
              "      <td>2000-03-11</td>\n",
              "    </tr>\n",
              "    <tr>\n",
              "      <th>3</th>\n",
              "      <td>287</td>\n",
              "      <td>2Ge+her</td>\n",
              "      <td>The Hardest Part Of Breaking Up (Is Getting Ba...</td>\n",
              "      <td>3:15</td>\n",
              "      <td>1</td>\n",
              "      <td>91.0</td>\n",
              "      <td>2000-09-02</td>\n",
              "    </tr>\n",
              "    <tr>\n",
              "      <th>4</th>\n",
              "      <td>287</td>\n",
              "      <td>2Ge+her</td>\n",
              "      <td>The Hardest Part Of Breaking Up (Is Getting Ba...</td>\n",
              "      <td>3:15</td>\n",
              "      <td>2</td>\n",
              "      <td>87.0</td>\n",
              "      <td>2000-09-09</td>\n",
              "    </tr>\n",
              "  </tbody>\n",
              "</table>\n",
              "</div>"
            ],
            "text/plain": [
              "    id   artist  ...  rank       date\n",
              "0  246    2 Pac  ...  87.0 2000-02-26\n",
              "1  246    2 Pac  ...  82.0 2000-03-04\n",
              "2  246    2 Pac  ...  72.0 2000-03-11\n",
              "3  287  2Ge+her  ...  91.0 2000-09-02\n",
              "4  287  2Ge+her  ...  87.0 2000-09-09\n",
              "\n",
              "[5 rows x 7 columns]"
            ]
          },
          "metadata": {
            "tags": []
          },
          "execution_count": 74
        }
      ]
    },
    {
      "cell_type": "code",
      "metadata": {
        "id": "cRNpqTjpOqyD",
        "colab_type": "code",
        "colab": {
          "base_uri": "https://localhost:8080/",
          "height": 35
        },
        "outputId": "1bcbdc7f-fd3b-42ce-ad65-ec8af0972d97"
      },
      "source": [
        "tidy = pd.merge( tracksid, bfinal, on = ['artist', 'track', 'time'] ).drop( ['artist', 'track', 'time'], axis = 1 )\n",
        "len(tidy)"
      ],
      "execution_count": 75,
      "outputs": [
        {
          "output_type": "execute_result",
          "data": {
            "text/plain": [
              "951"
            ]
          },
          "metadata": {
            "tags": []
          },
          "execution_count": 75
        }
      ]
    },
    {
      "cell_type": "code",
      "metadata": {
        "id": "OeYEfhj9O8GW",
        "colab_type": "code",
        "colab": {
          "base_uri": "https://localhost:8080/",
          "height": 198
        },
        "outputId": "9f0d94b5-797f-47bd-849f-86b13f56c666"
      },
      "source": [
        "tidy.head()"
      ],
      "execution_count": 76,
      "outputs": [
        {
          "output_type": "execute_result",
          "data": {
            "text/html": [
              "<div>\n",
              "<style scoped>\n",
              "    .dataframe tbody tr th:only-of-type {\n",
              "        vertical-align: middle;\n",
              "    }\n",
              "\n",
              "    .dataframe tbody tr th {\n",
              "        vertical-align: top;\n",
              "    }\n",
              "\n",
              "    .dataframe thead th {\n",
              "        text-align: right;\n",
              "    }\n",
              "</style>\n",
              "<table border=\"1\" class=\"dataframe\">\n",
              "  <thead>\n",
              "    <tr style=\"text-align: right;\">\n",
              "      <th></th>\n",
              "      <th>id</th>\n",
              "      <th>week</th>\n",
              "      <th>rank</th>\n",
              "      <th>date</th>\n",
              "    </tr>\n",
              "  </thead>\n",
              "  <tbody>\n",
              "    <tr>\n",
              "      <th>0</th>\n",
              "      <td>246</td>\n",
              "      <td>1</td>\n",
              "      <td>87.0</td>\n",
              "      <td>2000-02-26</td>\n",
              "    </tr>\n",
              "    <tr>\n",
              "      <th>1</th>\n",
              "      <td>246</td>\n",
              "      <td>2</td>\n",
              "      <td>82.0</td>\n",
              "      <td>2000-03-04</td>\n",
              "    </tr>\n",
              "    <tr>\n",
              "      <th>2</th>\n",
              "      <td>246</td>\n",
              "      <td>3</td>\n",
              "      <td>72.0</td>\n",
              "      <td>2000-03-11</td>\n",
              "    </tr>\n",
              "    <tr>\n",
              "      <th>3</th>\n",
              "      <td>287</td>\n",
              "      <td>1</td>\n",
              "      <td>91.0</td>\n",
              "      <td>2000-09-02</td>\n",
              "    </tr>\n",
              "    <tr>\n",
              "      <th>4</th>\n",
              "      <td>287</td>\n",
              "      <td>2</td>\n",
              "      <td>87.0</td>\n",
              "      <td>2000-09-09</td>\n",
              "    </tr>\n",
              "  </tbody>\n",
              "</table>\n",
              "</div>"
            ],
            "text/plain": [
              "    id  week  rank       date\n",
              "0  246     1  87.0 2000-02-26\n",
              "1  246     2  82.0 2000-03-04\n",
              "2  246     3  72.0 2000-03-11\n",
              "3  287     1  91.0 2000-09-02\n",
              "4  287     2  87.0 2000-09-09"
            ]
          },
          "metadata": {
            "tags": []
          },
          "execution_count": 76
        }
      ]
    },
    {
      "cell_type": "markdown",
      "metadata": {
        "id": "qfFk8ecIPwbn",
        "colab_type": "text"
      },
      "source": [
        "Highest rank achieved by a song in weeks one, two and three."
      ]
    },
    {
      "cell_type": "code",
      "metadata": {
        "id": "nT9YeVtFPoWj",
        "colab_type": "code",
        "colab": {
          "base_uri": "https://localhost:8080/",
          "height": 35
        },
        "outputId": "8ea7db51-f0c5-4cb4-f77b-978b3a484709"
      },
      "source": [
        "tidy[tidy.week == 1]['rank'].idxmin()"
      ],
      "execution_count": 77,
      "outputs": [
        {
          "output_type": "execute_result",
          "data": {
            "text/plain": [
              "756"
            ]
          },
          "metadata": {
            "tags": []
          },
          "execution_count": 77
        }
      ]
    },
    {
      "cell_type": "code",
      "metadata": {
        "id": "dTuQSPFEQTNC",
        "colab_type": "code",
        "colab": {
          "base_uri": "https://localhost:8080/",
          "height": 35
        },
        "outputId": "2919815a-590b-4e8e-8782-2e65fa39f87d"
      },
      "source": [
        "tidy[tidy.week == 1]['rank'].idxmax()"
      ],
      "execution_count": 78,
      "outputs": [
        {
          "output_type": "execute_result",
          "data": {
            "text/plain": [
              "258"
            ]
          },
          "metadata": {
            "tags": []
          },
          "execution_count": 78
        }
      ]
    },
    {
      "cell_type": "code",
      "metadata": {
        "id": "qNu-LndnQZRV",
        "colab_type": "code",
        "colab": {
          "base_uri": "https://localhost:8080/",
          "height": 108
        },
        "outputId": "a51c63b8-4d0d-4c0a-adbb-f6124b541068"
      },
      "source": [
        "tidy.loc[tidy[tidy.week == 1]['rank'].idxmin()]"
      ],
      "execution_count": 79,
      "outputs": [
        {
          "output_type": "execute_result",
          "data": {
            "text/plain": [
              "id                        1\n",
              "week                      1\n",
              "rank                     15\n",
              "date    2000-02-12 00:00:00\n",
              "Name: 756, dtype: object"
            ]
          },
          "metadata": {
            "tags": []
          },
          "execution_count": 79
        }
      ]
    },
    {
      "cell_type": "code",
      "metadata": {
        "id": "t1A1XJP2Qebe",
        "colab_type": "code",
        "colab": {
          "base_uri": "https://localhost:8080/",
          "height": 78
        },
        "outputId": "ca8de4c3-a9b2-486a-959f-f298a550038b"
      },
      "source": [
        "tracksid.query('id == 1')"
      ],
      "execution_count": 81,
      "outputs": [
        {
          "output_type": "execute_result",
          "data": {
            "text/html": [
              "<div>\n",
              "<style scoped>\n",
              "    .dataframe tbody tr th:only-of-type {\n",
              "        vertical-align: middle;\n",
              "    }\n",
              "\n",
              "    .dataframe tbody tr th {\n",
              "        vertical-align: top;\n",
              "    }\n",
              "\n",
              "    .dataframe thead th {\n",
              "        text-align: right;\n",
              "    }\n",
              "</style>\n",
              "<table border=\"1\" class=\"dataframe\">\n",
              "  <thead>\n",
              "    <tr style=\"text-align: right;\">\n",
              "      <th></th>\n",
              "      <th>id</th>\n",
              "      <th>artist</th>\n",
              "      <th>track</th>\n",
              "      <th>time</th>\n",
              "    </tr>\n",
              "  </thead>\n",
              "  <tbody>\n",
              "    <tr>\n",
              "      <th>252</th>\n",
              "      <td>1</td>\n",
              "      <td>Santana</td>\n",
              "      <td>Maria, Maria</td>\n",
              "      <td>4:18</td>\n",
              "    </tr>\n",
              "  </tbody>\n",
              "</table>\n",
              "</div>"
            ],
            "text/plain": [
              "     id   artist         track  time\n",
              "252   1  Santana  Maria, Maria  4:18"
            ]
          },
          "metadata": {
            "tags": []
          },
          "execution_count": 81
        }
      ]
    },
    {
      "cell_type": "code",
      "metadata": {
        "id": "3QQaRCXZQ13O",
        "colab_type": "code",
        "colab": {
          "base_uri": "https://localhost:8080/",
          "height": 108
        },
        "outputId": "7a1d0596-852a-4357-cd73-a13618fa929f"
      },
      "source": [
        "tidy.loc[tidy[tidy.week == 1]['rank'].idxmax()]"
      ],
      "execution_count": 82,
      "outputs": [
        {
          "output_type": "execute_result",
          "data": {
            "text/plain": [
              "id                      248\n",
              "week                      1\n",
              "rank                    100\n",
              "date    2000-02-12 00:00:00\n",
              "Name: 258, dtype: object"
            ]
          },
          "metadata": {
            "tags": []
          },
          "execution_count": 82
        }
      ]
    },
    {
      "cell_type": "code",
      "metadata": {
        "id": "nsQiW7uCQ6yO",
        "colab_type": "code",
        "colab": {
          "base_uri": "https://localhost:8080/",
          "height": 78
        },
        "outputId": "55ce1d44-bcc2-40d0-853b-aa46b8a79f51"
      },
      "source": [
        "tracksid.query('id == 248')"
      ],
      "execution_count": 83,
      "outputs": [
        {
          "output_type": "execute_result",
          "data": {
            "text/html": [
              "<div>\n",
              "<style scoped>\n",
              "    .dataframe tbody tr th:only-of-type {\n",
              "        vertical-align: middle;\n",
              "    }\n",
              "\n",
              "    .dataframe tbody tr th {\n",
              "        vertical-align: top;\n",
              "    }\n",
              "\n",
              "    .dataframe thead th {\n",
              "        text-align: right;\n",
              "    }\n",
              "</style>\n",
              "<table border=\"1\" class=\"dataframe\">\n",
              "  <thead>\n",
              "    <tr style=\"text-align: right;\">\n",
              "      <th></th>\n",
              "      <th>id</th>\n",
              "      <th>artist</th>\n",
              "      <th>track</th>\n",
              "      <th>time</th>\n",
              "    </tr>\n",
              "  </thead>\n",
              "  <tbody>\n",
              "    <tr>\n",
              "      <th>86</th>\n",
              "      <td>248</td>\n",
              "      <td>Drama</td>\n",
              "      <td>Left, Right, Left</td>\n",
              "      <td>3:37</td>\n",
              "    </tr>\n",
              "  </tbody>\n",
              "</table>\n",
              "</div>"
            ],
            "text/plain": [
              "     id artist              track  time\n",
              "86  248  Drama  Left, Right, Left  3:37"
            ]
          },
          "metadata": {
            "tags": []
          },
          "execution_count": 83
        }
      ]
    },
    {
      "cell_type": "code",
      "metadata": {
        "id": "22Gc0LjeRKbP",
        "colab_type": "code",
        "colab": {
          "base_uri": "https://localhost:8080/",
          "height": 108
        },
        "outputId": "2457c05b-24f5-4c4c-c918-ee960cdaea67"
      },
      "source": [
        "tidy.loc[tidy[tidy.week == 2]['rank'].idxmax()]"
      ],
      "execution_count": 84,
      "outputs": [
        {
          "output_type": "execute_result",
          "data": {
            "text/plain": [
              "id                      296\n",
              "week                      2\n",
              "rank                    100\n",
              "date    2000-01-08 00:00:00\n",
              "Name: 235, dtype: object"
            ]
          },
          "metadata": {
            "tags": []
          },
          "execution_count": 84
        }
      ]
    },
    {
      "cell_type": "code",
      "metadata": {
        "id": "O2066xmYRQFd",
        "colab_type": "code",
        "colab": {
          "base_uri": "https://localhost:8080/",
          "height": 78
        },
        "outputId": "a9f763a4-de3e-4143-8616-1a0d4ab3fe7a"
      },
      "source": [
        "tracksid.query('id == 296')"
      ],
      "execution_count": 85,
      "outputs": [
        {
          "output_type": "execute_result",
          "data": {
            "text/html": [
              "<div>\n",
              "<style scoped>\n",
              "    .dataframe tbody tr th:only-of-type {\n",
              "        vertical-align: middle;\n",
              "    }\n",
              "\n",
              "    .dataframe tbody tr th {\n",
              "        vertical-align: top;\n",
              "    }\n",
              "\n",
              "    .dataframe thead th {\n",
              "        text-align: right;\n",
              "    }\n",
              "</style>\n",
              "<table border=\"1\" class=\"dataframe\">\n",
              "  <thead>\n",
              "    <tr style=\"text-align: right;\">\n",
              "      <th></th>\n",
              "      <th>id</th>\n",
              "      <th>artist</th>\n",
              "      <th>track</th>\n",
              "      <th>time</th>\n",
              "    </tr>\n",
              "  </thead>\n",
              "  <tbody>\n",
              "    <tr>\n",
              "      <th>78</th>\n",
              "      <td>296</td>\n",
              "      <td>Diffie, Joe</td>\n",
              "      <td>The Quittin' Kind</td>\n",
              "      <td>3:23</td>\n",
              "    </tr>\n",
              "  </tbody>\n",
              "</table>\n",
              "</div>"
            ],
            "text/plain": [
              "     id       artist              track  time\n",
              "78  296  Diffie, Joe  The Quittin' Kind  3:23"
            ]
          },
          "metadata": {
            "tags": []
          },
          "execution_count": 85
        }
      ]
    },
    {
      "cell_type": "code",
      "metadata": {
        "id": "f9uvxt09RUja",
        "colab_type": "code",
        "colab": {
          "base_uri": "https://localhost:8080/",
          "height": 108
        },
        "outputId": "9c51818e-7969-4651-9699-b8f1586716e1"
      },
      "source": [
        "tidy.loc[tidy[tidy.week == 3]['rank'].idxmax()]"
      ],
      "execution_count": 86,
      "outputs": [
        {
          "output_type": "execute_result",
          "data": {
            "text/plain": [
              "id                      306\n",
              "week                      3\n",
              "rank                    100\n",
              "date    2001-01-06 00:00:00\n",
              "Name: 221, dtype: object"
            ]
          },
          "metadata": {
            "tags": []
          },
          "execution_count": 86
        }
      ]
    },
    {
      "cell_type": "code",
      "metadata": {
        "id": "EAzBmWgPRZrB",
        "colab_type": "code",
        "colab": {
          "base_uri": "https://localhost:8080/",
          "height": 78
        },
        "outputId": "52060cf9-686b-4c68-dee5-d264a058b182"
      },
      "source": [
        "tracksid.query('id == 306')"
      ],
      "execution_count": 87,
      "outputs": [
        {
          "output_type": "execute_result",
          "data": {
            "text/html": [
              "<div>\n",
              "<style scoped>\n",
              "    .dataframe tbody tr th:only-of-type {\n",
              "        vertical-align: middle;\n",
              "    }\n",
              "\n",
              "    .dataframe tbody tr th {\n",
              "        vertical-align: top;\n",
              "    }\n",
              "\n",
              "    .dataframe thead th {\n",
              "        text-align: right;\n",
              "    }\n",
              "</style>\n",
              "<table border=\"1\" class=\"dataframe\">\n",
              "  <thead>\n",
              "    <tr style=\"text-align: right;\">\n",
              "      <th></th>\n",
              "      <th>id</th>\n",
              "      <th>artist</th>\n",
              "      <th>track</th>\n",
              "      <th>time</th>\n",
              "    </tr>\n",
              "  </thead>\n",
              "  <tbody>\n",
              "    <tr>\n",
              "      <th>73</th>\n",
              "      <td>306</td>\n",
              "      <td>De La Soul</td>\n",
              "      <td>All Good?</td>\n",
              "      <td>5:02</td>\n",
              "    </tr>\n",
              "  </tbody>\n",
              "</table>\n",
              "</div>"
            ],
            "text/plain": [
              "     id      artist      track  time\n",
              "73  306  De La Soul  All Good?  5:02"
            ]
          },
          "metadata": {
            "tags": []
          },
          "execution_count": 87
        }
      ]
    }
  ]
}